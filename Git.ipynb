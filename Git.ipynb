{
 "cells": [
  {
   "cell_type": "code",
   "execution_count": 1,
   "id": "6ca43840",
   "metadata": {},
   "outputs": [],
   "source": [
    "SAMPLE_REPO_URL = 'git@github.com:vvkh/python-git-sample-repo.git'\n",
    "SAMPLE_NEW_REPO_SSH_URL = 'git@gitlab.com:valentine.khomutenko/python-git-sample-repo.git'\n",
    "SAMPLE_NEW_REPO_HTTPS_URL = 'https://gitlab.com/valentine.khomutenko/python-git-sample-repo.git'"
   ]
  },
  {
   "cell_type": "markdown",
   "id": "5af6236e",
   "metadata": {},
   "source": [
    "# Простое клонирование репозитория"
   ]
  },
  {
   "cell_type": "code",
   "execution_count": 2,
   "id": "f322b68e",
   "metadata": {},
   "outputs": [
    {
     "name": "stdout",
     "output_type": "stream",
     "text": [
      "fatal: destination path 'python-git-sample-repo' already exists and is not an empty directory.\r\n"
     ]
    }
   ],
   "source": [
    "!git clone $SAMPLE_REPO_URL"
   ]
  },
  {
   "cell_type": "code",
   "execution_count": 3,
   "id": "369c7578",
   "metadata": {
    "scrolled": true
   },
   "outputs": [
    {
     "name": "stdout",
     "output_type": "stream",
     "text": [
      "/Users/vvkhomutenko/Projects/hexlet/python-git/python-git-sample-repo\n"
     ]
    }
   ],
   "source": [
    "%cd python-git-sample-repo/"
   ]
  },
  {
   "cell_type": "code",
   "execution_count": 4,
   "id": "a5c29407",
   "metadata": {},
   "outputs": [
    {
     "name": "stdout",
     "output_type": "stream",
     "text": [
      "On branch master\r\n",
      "Your branch is up to date with 'origin/master'.\r\n",
      "\r\n",
      "nothing to commit, working tree clean\r\n"
     ]
    }
   ],
   "source": [
    "!git status"
   ]
  },
  {
   "cell_type": "code",
   "execution_count": 5,
   "id": "2e52cba7",
   "metadata": {},
   "outputs": [],
   "source": [
    "!echo \"hello world\" > file"
   ]
  },
  {
   "cell_type": "code",
   "execution_count": 6,
   "id": "ba24c9a8",
   "metadata": {},
   "outputs": [
    {
     "name": "stdout",
     "output_type": "stream",
     "text": [
      "On branch master\r\n",
      "Your branch is up to date with 'origin/master'.\r\n",
      "\r\n",
      "Changes not staged for commit:\r\n",
      "  (use \"git add <file>...\" to update what will be committed)\r\n",
      "  (use \"git restore <file>...\" to discard changes in working directory)\r\n",
      "\t\u001b[31mmodified:   file\u001b[m\r\n",
      "\r\n",
      "no changes added to commit (use \"git add\" and/or \"git commit -a\")\r\n"
     ]
    }
   ],
   "source": [
    "!git status"
   ]
  },
  {
   "cell_type": "code",
   "execution_count": 7,
   "id": "64b6c2eb",
   "metadata": {},
   "outputs": [
    {
     "name": "stdout",
     "output_type": "stream",
     "text": [
      "[master 8352e37] changed file\r\n",
      " 1 file changed, 1 insertion(+)\r\n"
     ]
    }
   ],
   "source": [
    "!git add -A && git commit -m \"changed file\""
   ]
  },
  {
   "cell_type": "code",
   "execution_count": 30,
   "id": "782d8c7a",
   "metadata": {},
   "outputs": [
    {
     "name": "stdout",
     "output_type": "stream",
     "text": [
      "On branch master\r\n",
      "Your branch is up to date with 'origin/master'.\r\n",
      "\r\n",
      "nothing to commit, working tree clean\r\n"
     ]
    }
   ],
   "source": [
    "!git status"
   ]
  },
  {
   "cell_type": "code",
   "execution_count": 9,
   "id": "195accb0",
   "metadata": {},
   "outputs": [
    {
     "name": "stdout",
     "output_type": "stream",
     "text": [
      "Enumerating objects: 5, done.\n",
      "Counting objects: 100% (5/5), done.\n",
      "Writing objects: 100% (3/3), 259 bytes | 259.00 KiB/s, done.\n",
      "Total 3 (delta 0), reused 2 (delta 0), pack-reused 0\n",
      "To github.com:vvkh/python-git-sample-repo.git\n",
      "   ad033bd..8352e37  master -> master\n"
     ]
    }
   ],
   "source": [
    "!git push"
   ]
  },
  {
   "cell_type": "markdown",
   "id": "c7799925",
   "metadata": {},
   "source": [
    "# Remote"
   ]
  },
  {
   "cell_type": "code",
   "execution_count": 11,
   "id": "e1a7c859",
   "metadata": {},
   "outputs": [
    {
     "name": "stdout",
     "output_type": "stream",
     "text": [
      "usage: git remote [-v | --verbose]\r\n",
      "   or: git remote add [-t <branch>] [-m <master>] [-f] [--tags | --no-tags] [--mirror=<fetch|push>] <name> <url>\r\n",
      "   or: git remote rename <old> <new>\r\n",
      "   or: git remote remove <name>\r\n",
      "   or: git remote set-head <name> (-a | --auto | -d | --delete | <branch>)\r\n",
      "   or: git remote [-v | --verbose] show [-n] <name>\r\n",
      "   or: git remote prune [-n | --dry-run] <name>\r\n",
      "   or: git remote [-v | --verbose] update [-p | --prune] [(<group> | <remote>)...]\r\n",
      "   or: git remote set-branches [--add] <name> <branch>...\r\n",
      "   or: git remote get-url [--push] [--all] <name>\r\n",
      "   or: git remote set-url [--push] <name> <newurl> [<oldurl>]\r\n",
      "   or: git remote set-url --add <name> <newurl>\r\n",
      "   or: git remote set-url --delete <name> <url>\r\n",
      "\r\n",
      "    -v, --verbose         be verbose; must be placed before a subcommand\r\n",
      "\r\n"
     ]
    }
   ],
   "source": [
    "!git remote -h"
   ]
  },
  {
   "cell_type": "code",
   "execution_count": 12,
   "id": "fe630679",
   "metadata": {},
   "outputs": [
    {
     "name": "stdout",
     "output_type": "stream",
     "text": [
      "origin\tgit@github.com:vvkh/python-git-sample-repo.git (fetch)\r\n",
      "origin\tgit@github.com:vvkh/python-git-sample-repo.git (push)\r\n"
     ]
    }
   ],
   "source": [
    "!git remote -v"
   ]
  },
  {
   "cell_type": "code",
   "execution_count": 14,
   "id": "710c5269",
   "metadata": {},
   "outputs": [],
   "source": [
    "!git remote add gitlab $SAMPLE_NEW_REPO_SSH_URL"
   ]
  },
  {
   "cell_type": "code",
   "execution_count": 29,
   "id": "0a1eb1ba",
   "metadata": {},
   "outputs": [
    {
     "name": "stdout",
     "output_type": "stream",
     "text": [
      "gitlab\tgit@gitlab.com:valentine.khomutenko/python-git-sample-repo.git (fetch)\r\n",
      "gitlab\tgit@gitlab.com:valentine.khomutenko/python-git-sample-repo.git (push)\r\n",
      "origin\tgit@github.com:vvkh/python-git-sample-repo.git (fetch)\r\n",
      "origin\tgit@github.com:vvkh/python-git-sample-repo.git (push)\r\n"
     ]
    }
   ],
   "source": [
    "!git remote -v"
   ]
  },
  {
   "cell_type": "code",
   "execution_count": 18,
   "id": "9e59d904",
   "metadata": {
    "scrolled": true
   },
   "outputs": [
    {
     "name": "stdout",
     "output_type": "stream",
     "text": [
      "usage: git push [<options>] [<repository> [<refspec>...]]\r\n",
      "\r\n",
      "    -v, --verbose         be more verbose\r\n",
      "    -q, --quiet           be more quiet\r\n",
      "    --repo <repository>   repository\r\n",
      "    --all                 push all refs\r\n",
      "    --mirror              mirror all refs\r\n",
      "    -d, --delete          delete refs\r\n",
      "    --tags                push tags (can't be used with --all or --mirror)\r\n",
      "    -n, --dry-run         dry run\r\n",
      "    --porcelain           machine-readable output\r\n",
      "    -f, --force           force updates\r\n",
      "    --force-with-lease[=<refname>:<expect>]\r\n",
      "                          require old value of ref to be at this value\r\n",
      "    --force-if-includes   require remote updates to be integrated locally\r\n",
      "    --recurse-submodules (check|on-demand|no)\r\n",
      "                          control recursive pushing of submodules\r\n",
      "    --thin                use thin pack\r\n",
      "    --receive-pack <receive-pack>\r\n",
      "                          receive pack program\r\n",
      "    --exec <receive-pack>\r\n",
      "                          receive pack program\r\n",
      "    -u, --set-upstream    set upstream for git pull/status\r\n",
      "    --progress            force progress reporting\r\n",
      "    --prune               prune locally removed refs\r\n",
      "    --no-verify           bypass pre-push hook\r\n",
      "    --follow-tags         push missing but relevant tags\r\n",
      "    --signed[=(yes|no|if-asked)]\r\n",
      "                          GPG sign the push\r\n",
      "    --atomic              request atomic transaction on remote side\r\n",
      "    -o, --push-option <server-specific>\r\n",
      "                          option to transmit\r\n",
      "    -4, --ipv4            use IPv4 addresses only\r\n",
      "    -6, --ipv6            use IPv6 addresses only\r\n",
      "\r\n"
     ]
    }
   ],
   "source": [
    "!git push -h"
   ]
  },
  {
   "cell_type": "code",
   "execution_count": 19,
   "id": "13028118",
   "metadata": {},
   "outputs": [
    {
     "name": "stdout",
     "output_type": "stream",
     "text": [
      "git@gitlab.com: Permission denied (publickey,keyboard-interactive).\r",
      "\r\n",
      "fatal: Could not read from remote repository.\r\n",
      "\r\n",
      "Please make sure you have the correct access rights\r\n",
      "and the repository exists.\r\n"
     ]
    }
   ],
   "source": [
    "!git push gitlab master"
   ]
  },
  {
   "cell_type": "code",
   "execution_count": 21,
   "id": "edadd8ea",
   "metadata": {},
   "outputs": [],
   "source": [
    "!git remote set-url gitlab $SAMPLE_NEW_REPO_HTTPS_URL"
   ]
  },
  {
   "cell_type": "code",
   "execution_count": 28,
   "id": "48015884",
   "metadata": {
    "scrolled": true
   },
   "outputs": [
    {
     "name": "stdout",
     "output_type": "stream",
     "text": [
      "Enumerating objects: 6, done.\n",
      "Counting objects: 100% (6/6), done.\n",
      "Delta compression using up to 12 threads\n",
      "Compressing objects: 100% (2/2), done.\n",
      "Writing objects: 100% (6/6), 441 bytes | 441.00 KiB/s, done.\n",
      "Total 6 (delta 0), reused 4 (delta 0), pack-reused 0\n",
      "To gitlab.com:valentine.khomutenko/python-git-sample-repo.git\n",
      " * [new branch]      master -> master\n"
     ]
    }
   ],
   "source": [
    "!git push gitlab master"
   ]
  },
  {
   "cell_type": "code",
   "execution_count": 24,
   "id": "f179ca5d",
   "metadata": {},
   "outputs": [],
   "source": [
    "!git remote set-url gitlab $SAMPLE_NEW_REPO_SSH_URL"
   ]
  },
  {
   "cell_type": "markdown",
   "id": "5728d708",
   "metadata": {},
   "source": [
    "# SSH ключи"
   ]
  },
  {
   "cell_type": "markdown",
   "id": "2fbe250c",
   "metadata": {},
   "source": [
    "* ssh-keygen — для генерации ключей\n",
    "* ~/.ssh — директория с ключами по-умолчанию\n",
    "* \\*.pub файлы — публичные, их можно загружать в сторонние сервисы"
   ]
  },
  {
   "cell_type": "markdown",
   "id": "01621468",
   "metadata": {},
   "source": [
    "# Установка remote без клонирования"
   ]
  },
  {
   "cell_type": "code",
   "execution_count": 31,
   "id": "7bc971e6",
   "metadata": {},
   "outputs": [],
   "source": [
    "mkdir ../bare_repo"
   ]
  },
  {
   "cell_type": "code",
   "execution_count": 32,
   "id": "d923f6ff",
   "metadata": {},
   "outputs": [
    {
     "name": "stdout",
     "output_type": "stream",
     "text": [
      "/Users/vvkhomutenko/Projects/hexlet/python-git/bare_repo\n"
     ]
    }
   ],
   "source": [
    "%cd ../bare_repo"
   ]
  },
  {
   "cell_type": "code",
   "execution_count": 33,
   "id": "a9f9fc43",
   "metadata": {},
   "outputs": [
    {
     "name": "stdout",
     "output_type": "stream",
     "text": [
      "\u001b[33mhint: Using 'master' as the name for the initial branch. This default branch name\u001b[m\r\n",
      "\u001b[33mhint: is subject to change. To configure the initial branch name to use in all\u001b[m\r\n",
      "\u001b[33mhint: of your new repositories, which will suppress this warning, call:\u001b[m\r\n",
      "\u001b[33mhint: \u001b[m\r\n",
      "\u001b[33mhint: \tgit config --global init.defaultBranch <name>\u001b[m\r\n",
      "\u001b[33mhint: \u001b[m\r\n",
      "\u001b[33mhint: Names commonly chosen instead of 'master' are 'main', 'trunk' and\u001b[m\r\n",
      "\u001b[33mhint: 'development'. The just-created branch can be renamed via this command:\u001b[m\r\n",
      "\u001b[33mhint: \u001b[m\r\n",
      "\u001b[33mhint: \tgit branch -m <name>\u001b[m\r\n",
      "Initialized empty Git repository in /Users/vvkhomutenko/Projects/hexlet/python-git/bare_repo/.git/\r\n"
     ]
    }
   ],
   "source": [
    "!git init"
   ]
  },
  {
   "cell_type": "code",
   "execution_count": 34,
   "id": "df93c594",
   "metadata": {},
   "outputs": [],
   "source": [
    "!git remote add origin git@github.com:vvkh/python-git-sample-repo.git"
   ]
  },
  {
   "cell_type": "code",
   "execution_count": 35,
   "id": "46d9b9e7",
   "metadata": {},
   "outputs": [
    {
     "name": "stdout",
     "output_type": "stream",
     "text": [
      "origin\tgit@github.com:vvkh/python-git-sample-repo.git (fetch)\r\n",
      "origin\tgit@github.com:vvkh/python-git-sample-repo.git (push)\r\n"
     ]
    }
   ],
   "source": [
    "!git remote -v"
   ]
  },
  {
   "cell_type": "code",
   "execution_count": 36,
   "id": "bc4b65f6",
   "metadata": {},
   "outputs": [
    {
     "name": "stdout",
     "output_type": "stream",
     "text": [
      "remote: Enumerating objects: 6, done.\u001b[K\n",
      "remote: Counting objects: 100% (6/6), done.\u001b[K\n",
      "remote: Compressing objects: 100% (2/2), done.\u001b[K\n",
      "remote: Total 6 (delta 0), reused 6 (delta 0), pack-reused 0\u001b[K\n",
      "Unpacking objects: 100% (6/6), 421 bytes | 105.00 KiB/s, done.\n",
      "From github.com:vvkh/python-git-sample-repo\n",
      " * branch            master     -> FETCH_HEAD\n",
      " * [new branch]      master     -> origin/master\n"
     ]
    }
   ],
   "source": [
    "!git fetch origin master"
   ]
  },
  {
   "cell_type": "code",
   "execution_count": 38,
   "id": "b20ae770",
   "metadata": {},
   "outputs": [
    {
     "name": "stdout",
     "output_type": "stream",
     "text": [
      "\u001b[33mhint: Pulling without specifying how to reconcile divergent branches is\u001b[m\n",
      "\u001b[33mhint: discouraged. You can squelch this message by running one of the following\u001b[m\n",
      "\u001b[33mhint: commands sometime before your next pull:\u001b[m\n",
      "\u001b[33mhint: \u001b[m\n",
      "\u001b[33mhint:   git config pull.rebase false  # merge (the default strategy)\u001b[m\n",
      "\u001b[33mhint:   git config pull.rebase true   # rebase\u001b[m\n",
      "\u001b[33mhint:   git config pull.ff only       # fast-forward only\u001b[m\n",
      "\u001b[33mhint: \u001b[m\n",
      "\u001b[33mhint: You can replace \"git config\" with \"git config --global\" to set a default\u001b[m\n",
      "\u001b[33mhint: preference for all repositories. You can also pass --rebase, --no-rebase,\u001b[m\n",
      "\u001b[33mhint: or --ff-only on the command line to override the configured default per\u001b[m\n",
      "\u001b[33mhint: invocation.\u001b[m\n",
      "From github.com:vvkh/python-git-sample-repo\n",
      " * branch            master     -> FETCH_HEAD\n"
     ]
    }
   ],
   "source": [
    "!git pull origin master"
   ]
  },
  {
   "cell_type": "code",
   "execution_count": 39,
   "id": "7761ebbb",
   "metadata": {},
   "outputs": [
    {
     "name": "stdout",
     "output_type": "stream",
     "text": [
      "Branch 'master' set up to track remote branch 'master' from 'origin'.\r\n"
     ]
    }
   ],
   "source": [
    "!git branch --set-upstream-to origin/master"
   ]
  },
  {
   "cell_type": "code",
   "execution_count": 41,
   "id": "500f0a87",
   "metadata": {},
   "outputs": [
    {
     "name": "stdout",
     "output_type": "stream",
     "text": [
      "Branch 'master' set up to track remote branch 'master' from 'origin'.\r\n",
      "Everything up-to-date\r\n"
     ]
    }
   ],
   "source": [
    "!git push -u origin master"
   ]
  },
  {
   "cell_type": "code",
   "execution_count": 40,
   "id": "9006c2fb",
   "metadata": {},
   "outputs": [
    {
     "name": "stdout",
     "output_type": "stream",
     "text": [
      "On branch master\r\n",
      "Your branch is up to date with 'origin/master'.\r\n",
      "\r\n",
      "nothing to commit, working tree clean\r\n"
     ]
    }
   ],
   "source": [
    "!git status"
   ]
  },
  {
   "cell_type": "code",
   "execution_count": 42,
   "id": "4dab98da",
   "metadata": {},
   "outputs": [
    {
     "name": "stdout",
     "output_type": "stream",
     "text": [
      "/Users/vvkhomutenko/Projects/hexlet/python-git\n"
     ]
    }
   ],
   "source": [
    "%cd .. "
   ]
  },
  {
   "cell_type": "code",
   "execution_count": 43,
   "id": "da01a3ef",
   "metadata": {},
   "outputs": [],
   "source": [
    "!rm -rf bare_repo"
   ]
  },
  {
   "cell_type": "code",
   "execution_count": 44,
   "id": "e589e3e3",
   "metadata": {},
   "outputs": [
    {
     "name": "stdout",
     "output_type": "stream",
     "text": [
      "/Users/vvkhomutenko/Projects/hexlet/python-git/python-git-sample-repo\n"
     ]
    }
   ],
   "source": [
    "%cd python-git-sample-repo/"
   ]
  },
  {
   "cell_type": "markdown",
   "id": "f6fb4851",
   "metadata": {},
   "source": [
    "# Ведение репозитория, push в master"
   ]
  },
  {
   "cell_type": "markdown",
   "id": "caf83009",
   "metadata": {},
   "source": [
    "Что плохого в том, чтобы просто пушить в master?"
   ]
  },
  {
   "cell_type": "markdown",
   "id": "8263f101",
   "metadata": {},
   "source": [
    "Делаем PR"
   ]
  },
  {
   "cell_type": "code",
   "execution_count": 45,
   "id": "d1fde03a",
   "metadata": {},
   "outputs": [
    {
     "name": "stdout",
     "output_type": "stream",
     "text": [
      "Switched to a new branch 'new_feature'\r\n"
     ]
    }
   ],
   "source": [
    "!git checkout -b new_feature"
   ]
  },
  {
   "cell_type": "code",
   "execution_count": 46,
   "id": "44670a3c",
   "metadata": {},
   "outputs": [],
   "source": [
    "!echo \"making pr!\" > file && touch new_file"
   ]
  },
  {
   "cell_type": "code",
   "execution_count": 52,
   "id": "59bd5f9c",
   "metadata": {},
   "outputs": [
    {
     "name": "stdout",
     "output_type": "stream",
     "text": [
      "On branch new_feature\r\n",
      "Your branch is up to date with 'origin/new_feature'.\r\n",
      "\r\n",
      "Untracked files:\r\n",
      "  (use \"git add <file>...\" to include in what will be committed)\r\n",
      "\t\u001b[31mnew_file\u001b[m\r\n",
      "\r\n",
      "nothing added to commit but untracked files present (use \"git add\" to track)\r\n"
     ]
    }
   ],
   "source": [
    "!git status"
   ]
  },
  {
   "cell_type": "code",
   "execution_count": 48,
   "id": "5bdc8859",
   "metadata": {},
   "outputs": [
    {
     "name": "stdout",
     "output_type": "stream",
     "text": [
      "[new_feature 7210d31] update file\r\n",
      " 1 file changed, 1 insertion(+), 1 deletion(-)\r\n"
     ]
    }
   ],
   "source": [
    "!git add file && git commit -m \"update file\""
   ]
  },
  {
   "cell_type": "code",
   "execution_count": 50,
   "id": "a275943d",
   "metadata": {
    "scrolled": true
   },
   "outputs": [
    {
     "name": "stdout",
     "output_type": "stream",
     "text": [
      "Enumerating objects: 5, done.\n",
      "Counting objects: 100% (5/5), done.\n",
      "Writing objects: 100% (3/3), 258 bytes | 258.00 KiB/s, done.\n",
      "Total 3 (delta 0), reused 1 (delta 0), pack-reused 0\n",
      "remote: \n",
      "remote: Create a pull request for 'new_feature' on GitHub by visiting:\u001b[K\n",
      "remote:      https://github.com/vvkh/python-git-sample-repo/pull/new/new_feature\u001b[K\n",
      "remote: \n",
      "To github.com:vvkh/python-git-sample-repo.git\n",
      " * [new branch]      new_feature -> new_feature\n",
      "Branch 'new_feature' set up to track remote branch 'new_feature' from 'origin'.\n"
     ]
    }
   ],
   "source": [
    "!git push -u origin new_feature"
   ]
  },
  {
   "cell_type": "code",
   "execution_count": 58,
   "id": "0e3e8fab",
   "metadata": {},
   "outputs": [
    {
     "name": "stdout",
     "output_type": "stream",
     "text": [
      "On branch new_feature\r\n",
      "Your branch and 'origin/new_feature' have diverged,\r\n",
      "and have 1 and 1 different commits each, respectively.\r\n",
      "  (use \"git pull\" to merge the remote branch into yours)\r\n",
      "\r\n",
      "nothing to commit, working tree clean\r\n"
     ]
    }
   ],
   "source": [
    "!git status"
   ]
  },
  {
   "cell_type": "code",
   "execution_count": 53,
   "id": "a8a36ef2",
   "metadata": {},
   "outputs": [],
   "source": [
    "!git add new_file"
   ]
  },
  {
   "cell_type": "code",
   "execution_count": 57,
   "id": "86630aa0",
   "metadata": {},
   "outputs": [
    {
     "name": "stdout",
     "output_type": "stream",
     "text": [
      "\u001b[33mcommit c15665832ba4f548f7ae79752444b9ccec361318\u001b[m\u001b[33m (\u001b[m\u001b[1;36mHEAD -> \u001b[m\u001b[1;32mnew_feature\u001b[m\u001b[33m)\u001b[m\r\n",
      "Author: Valentin Khomutenko <valentine.khomutenko@gmail.com>\r\n",
      "Date:   Sun May 16 19:51:31 2021 +0300\r\n",
      "\r\n",
      "    update file\r\n",
      "\r\n",
      "\u001b[33mcommit 8352e37a25c18b8a770d9e365243a4a651082e6c\u001b[m\u001b[33m (\u001b[m\u001b[1;31morigin/master\u001b[m\u001b[33m, \u001b[m\u001b[1;31morigin/HEAD\u001b[m\u001b[33m, \u001b[m\u001b[1;31mgitlab/master\u001b[m\u001b[33m, \u001b[m\u001b[1;32mmaster\u001b[m\u001b[33m)\u001b[m\r\n",
      "Author: Valentin Khomutenko <valentine.khomutenko@gmail.com>\r\n",
      "Date:   Sun May 16 19:13:09 2021 +0300\r\n",
      "\r\n",
      "    changed file\r\n",
      "\r\n",
      "\u001b[33mcommit ad033bd1f60ced176bed1e3768fe3c1ef2ffe204\u001b[m\r\n",
      "Author: Valentin Khomutenko <valentine.khomutenko@gmail.com>\r\n",
      "Date:   Sun May 16 14:29:08 2021 +0300\r\n",
      "\r\n",
      "    add file\r\n"
     ]
    }
   ],
   "source": [
    "!git log"
   ]
  },
  {
   "cell_type": "code",
   "execution_count": 56,
   "id": "0d952779",
   "metadata": {},
   "outputs": [
    {
     "name": "stdout",
     "output_type": "stream",
     "text": [
      "[new_feature c156658] update file\r\n",
      " Date: Sun May 16 19:51:31 2021 +0300\r\n",
      " 2 files changed, 1 insertion(+), 1 deletion(-)\r\n",
      " create mode 100644 new_file\r\n"
     ]
    }
   ],
   "source": [
    "!git commit --amend -m \"update file\""
   ]
  },
  {
   "cell_type": "code",
   "execution_count": 59,
   "id": "89bc5b13",
   "metadata": {
    "scrolled": true
   },
   "outputs": [
    {
     "name": "stdout",
     "output_type": "stream",
     "text": [
      "On branch new_feature\r\n",
      "Your branch and 'origin/new_feature' have diverged,\r\n",
      "and have 1 and 1 different commits each, respectively.\r\n",
      "  (use \"git pull\" to merge the remote branch into yours)\r\n",
      "\r\n",
      "nothing to commit, working tree clean\r\n"
     ]
    }
   ],
   "source": [
    "!git status"
   ]
  },
  {
   "cell_type": "code",
   "execution_count": 60,
   "id": "0e98867c",
   "metadata": {},
   "outputs": [
    {
     "name": "stdout",
     "output_type": "stream",
     "text": [
      "\u001b[33mcommit c15665832ba4f548f7ae79752444b9ccec361318\u001b[m\u001b[33m (\u001b[m\u001b[1;36mHEAD -> \u001b[m\u001b[1;32mnew_feature\u001b[m\u001b[33m)\u001b[m\r\n",
      "Author: Valentin Khomutenko <valentine.khomutenko@gmail.com>\r\n",
      "Date:   Sun May 16 19:51:31 2021 +0300\r\n",
      "\r\n",
      "    update file\r\n",
      "\r\n",
      "\u001b[33mcommit 8352e37a25c18b8a770d9e365243a4a651082e6c\u001b[m\u001b[33m (\u001b[m\u001b[1;31morigin/master\u001b[m\u001b[33m, \u001b[m\u001b[1;31morigin/HEAD\u001b[m\u001b[33m, \u001b[m\u001b[1;31mgitlab/master\u001b[m\u001b[33m, \u001b[m\u001b[1;32mmaster\u001b[m\u001b[33m)\u001b[m\r\n",
      "Author: Valentin Khomutenko <valentine.khomutenko@gmail.com>\r\n",
      "Date:   Sun May 16 19:13:09 2021 +0300\r\n",
      "\r\n",
      "    changed file\r\n",
      "\r\n",
      "\u001b[33mcommit ad033bd1f60ced176bed1e3768fe3c1ef2ffe204\u001b[m\r\n",
      "Author: Valentin Khomutenko <valentine.khomutenko@gmail.com>\r\n",
      "Date:   Sun May 16 14:29:08 2021 +0300\r\n",
      "\r\n",
      "    add file\r\n"
     ]
    }
   ],
   "source": [
    "!git log"
   ]
  },
  {
   "cell_type": "code",
   "execution_count": 61,
   "id": "88386ecb",
   "metadata": {},
   "outputs": [
    {
     "name": "stdout",
     "output_type": "stream",
     "text": [
      "Enumerating objects: 6, done.\n",
      "Counting objects: 100% (6/6), done.\n",
      "Delta compression using up to 12 threads\n",
      "Compressing objects: 100% (2/2), done.\n",
      "Writing objects: 100% (4/4), 300 bytes | 300.00 KiB/s, done.\n",
      "Total 4 (delta 0), reused 3 (delta 0), pack-reused 0\n",
      "To github.com:vvkh/python-git-sample-repo.git\n",
      " + 7210d31...c156658 new_feature -> new_feature (forced update)\n"
     ]
    }
   ],
   "source": [
    "!git push -f"
   ]
  },
  {
   "cell_type": "code",
   "execution_count": 62,
   "id": "909aa260",
   "metadata": {},
   "outputs": [
    {
     "name": "stdout",
     "output_type": "stream",
     "text": [
      "\u001b[33mcommit c15665832ba4f548f7ae79752444b9ccec361318\u001b[m\u001b[33m (\u001b[m\u001b[1;36mHEAD -> \u001b[m\u001b[1;32mnew_feature\u001b[m\u001b[33m, \u001b[m\u001b[1;31morigin/new_feature\u001b[m\u001b[33m)\u001b[m\r\n",
      "Author: Valentin Khomutenko <valentine.khomutenko@gmail.com>\r\n",
      "Date:   Sun May 16 19:51:31 2021 +0300\r\n",
      "\r\n",
      "    update file\r\n",
      "\r\n",
      "\u001b[33mcommit 8352e37a25c18b8a770d9e365243a4a651082e6c\u001b[m\u001b[33m (\u001b[m\u001b[1;31morigin/master\u001b[m\u001b[33m, \u001b[m\u001b[1;31morigin/HEAD\u001b[m\u001b[33m, \u001b[m\u001b[1;31mgitlab/master\u001b[m\u001b[33m, \u001b[m\u001b[1;32mmaster\u001b[m\u001b[33m)\u001b[m\r\n",
      "Author: Valentin Khomutenko <valentine.khomutenko@gmail.com>\r\n",
      "Date:   Sun May 16 19:13:09 2021 +0300\r\n",
      "\r\n",
      "    changed file\r\n",
      "\r\n",
      "\u001b[33mcommit ad033bd1f60ced176bed1e3768fe3c1ef2ffe204\u001b[m\r\n",
      "Author: Valentin Khomutenko <valentine.khomutenko@gmail.com>\r\n",
      "Date:   Sun May 16 14:29:08 2021 +0300\r\n",
      "\r\n",
      "    add file\r\n"
     ]
    }
   ],
   "source": [
    "!git log"
   ]
  },
  {
   "cell_type": "markdown",
   "id": "0c0f4fb8",
   "metadata": {},
   "source": [
    "## force push может удалить существующие коммиты, с этим нужно быть осторожным!\n",
    "\n",
    "Обычно безопасно:\n",
    "\n",
    "— Если это ваша ветка или никто больше не делал веток от ваших коммитов\n",
    "\n",
    "— Если вы точно знаете, что делаете :) "
   ]
  },
  {
   "cell_type": "markdown",
   "id": "c3b1e36b",
   "metadata": {},
   "source": [
    "# Нюансы работы в команде"
   ]
  },
  {
   "cell_type": "markdown",
   "id": "b8543b58",
   "metadata": {},
   "source": [
    "## Варианты ветвления\n",
    "\n",
    "* feature → master \n",
    "* feature → dev → master\n",
    "* [git flow](https://bitworks.software/2019-03-12-gitflow-workflow.html)"
   ]
  },
  {
   "cell_type": "markdown",
   "id": "cb029135",
   "metadata": {},
   "source": [
    "## Перенос изменений"
   ]
  },
  {
   "cell_type": "code",
   "execution_count": 63,
   "id": "fce20ae5",
   "metadata": {},
   "outputs": [
    {
     "name": "stdout",
     "output_type": "stream",
     "text": [
      "Cloning into 'dev_1'...\n",
      "remote: Enumerating objects: 18, done.\u001b[K\n",
      "remote: Counting objects: 100% (18/18), done.\u001b[K\n",
      "remote: Compressing objects: 100% (11/11), done.\u001b[K\n",
      "Receiving objects: 100% (18/18), done.\n",
      "Resolving deltas: 100% (4/4), done.\n",
      "remote: Total 18 (delta 4), reused 13 (delta 0), pack-reused 0\u001b[K\n"
     ]
    }
   ],
   "source": [
    "!git clone $SAMPLE_REPO_URL dev_1"
   ]
  },
  {
   "cell_type": "code",
   "execution_count": 64,
   "id": "ada30cd9",
   "metadata": {},
   "outputs": [
    {
     "name": "stdout",
     "output_type": "stream",
     "text": [
      "Cloning into 'dev_2'...\n",
      "remote: Enumerating objects: 18, done.\u001b[K\n",
      "remote: Counting objects: 100% (18/18), done.\u001b[K\n",
      "remote: Compressing objects: 100% (11/11), done.\u001b[K\n",
      "Receiving objects: 100% (18/18), done.\n",
      "Resolving deltas: 100% (4/4), done.\n",
      "remote: Total 18 (delta 4), reused 13 (delta 0), pack-reused 0\u001b[K\n"
     ]
    }
   ],
   "source": [
    "!git clone $SAMPLE_REPO_URL dev_2"
   ]
  },
  {
   "cell_type": "code",
   "execution_count": 65,
   "id": "cb14fabd",
   "metadata": {},
   "outputs": [
    {
     "name": "stdout",
     "output_type": "stream",
     "text": [
      "/Users/vvkhomutenko/Projects/hexlet/python-git/python-git-sample-repo/dev_1\n"
     ]
    }
   ],
   "source": [
    "%cd dev_1"
   ]
  },
  {
   "cell_type": "code",
   "execution_count": 66,
   "id": "58f650dc",
   "metadata": {},
   "outputs": [
    {
     "name": "stdout",
     "output_type": "stream",
     "text": [
      "Switched to a new branch 'dev1_feature'\r\n"
     ]
    }
   ],
   "source": [
    "!git checkout -b dev1_feature"
   ]
  },
  {
   "cell_type": "code",
   "execution_count": 67,
   "id": "f81c250c",
   "metadata": {},
   "outputs": [],
   "source": [
    "!echo \"dev 1\" > dev_1_file"
   ]
  },
  {
   "cell_type": "code",
   "execution_count": 68,
   "id": "cde01a04",
   "metadata": {},
   "outputs": [
    {
     "name": "stdout",
     "output_type": "stream",
     "text": [
      "[dev1_feature cd2f0ca] add dev_1_file\r\n",
      " 1 file changed, 1 insertion(+)\r\n",
      " create mode 100644 dev_1_file\r\n"
     ]
    }
   ],
   "source": [
    "!git add -A && git commit -m \"add dev_1_file\""
   ]
  },
  {
   "cell_type": "code",
   "execution_count": 70,
   "id": "a86cb971",
   "metadata": {},
   "outputs": [
    {
     "name": "stdout",
     "output_type": "stream",
     "text": [
      "Enumerating objects: 4, done.\n",
      "Counting objects: 100% (4/4), done.\n",
      "Delta compression using up to 12 threads\n",
      "Compressing objects: 100% (2/2), done.\n",
      "Writing objects: 100% (3/3), 288 bytes | 288.00 KiB/s, done.\n",
      "Total 3 (delta 0), reused 1 (delta 0), pack-reused 0\n",
      "remote: \n",
      "remote: Create a pull request for 'dev1_feature' on GitHub by visiting:\u001b[K\n",
      "remote:      https://github.com/vvkh/python-git-sample-repo/pull/new/dev1_feature\u001b[K\n",
      "remote: \n",
      "To github.com:vvkh/python-git-sample-repo.git\n",
      " * [new branch]      dev1_feature -> dev1_feature\n",
      "Branch 'dev1_feature' set up to track remote branch 'dev1_feature' from 'origin'.\n"
     ]
    }
   ],
   "source": [
    "!git push -u origin dev1_feature"
   ]
  },
  {
   "cell_type": "code",
   "execution_count": 73,
   "id": "2a92a590",
   "metadata": {},
   "outputs": [
    {
     "name": "stdout",
     "output_type": "stream",
     "text": [
      "\u001b[33mcommit 8352e37a25c18b8a770d9e365243a4a651082e6c\u001b[m\u001b[33m (\u001b[m\u001b[1;36mHEAD -> \u001b[m\u001b[1;32mmaster\u001b[m\u001b[33m, \u001b[m\u001b[1;31morigin/master\u001b[m\u001b[33m, \u001b[m\u001b[1;31morigin/HEAD\u001b[m\u001b[33m)\u001b[m\r\n",
      "Author: Valentin Khomutenko <valentine.khomutenko@gmail.com>\r\n",
      "Date:   Sun May 16 19:13:09 2021 +0300\r\n",
      "\r\n",
      "    changed file\r\n",
      "\r\n",
      "\u001b[33mcommit ad033bd1f60ced176bed1e3768fe3c1ef2ffe204\u001b[m\r\n",
      "Author: Valentin Khomutenko <valentine.khomutenko@gmail.com>\r\n",
      "Date:   Sun May 16 14:29:08 2021 +0300\r\n",
      "\r\n",
      "    add file\r\n"
     ]
    }
   ],
   "source": [
    "!git log"
   ]
  },
  {
   "cell_type": "code",
   "execution_count": 72,
   "id": "919b2503",
   "metadata": {},
   "outputs": [
    {
     "name": "stdout",
     "output_type": "stream",
     "text": [
      "/Users/vvkhomutenko/Projects/hexlet/python-git/python-git-sample-repo/dev_2\n"
     ]
    }
   ],
   "source": [
    "%cd ../dev_2/"
   ]
  },
  {
   "cell_type": "code",
   "execution_count": 74,
   "id": "164a2481",
   "metadata": {},
   "outputs": [
    {
     "name": "stdout",
     "output_type": "stream",
     "text": [
      "Switched to a new branch 'dev2_feature'\r\n"
     ]
    }
   ],
   "source": [
    "!git checkout -b dev2_feature"
   ]
  },
  {
   "cell_type": "code",
   "execution_count": 75,
   "id": "61b842d5",
   "metadata": {},
   "outputs": [],
   "source": [
    "!echo \"dev 2\" > dev_2_file"
   ]
  },
  {
   "cell_type": "code",
   "execution_count": 76,
   "id": "5d9aff62",
   "metadata": {
    "scrolled": true
   },
   "outputs": [
    {
     "name": "stdout",
     "output_type": "stream",
     "text": [
      "[dev2_feature 1727481] add dev_2_file\r\n",
      " 1 file changed, 1 insertion(+)\r\n",
      " create mode 100644 dev_2_file\r\n"
     ]
    }
   ],
   "source": [
    "!git add -A && git commit -m \"add dev_2_file\""
   ]
  },
  {
   "cell_type": "code",
   "execution_count": 77,
   "id": "9d1ab8e4",
   "metadata": {},
   "outputs": [
    {
     "name": "stdout",
     "output_type": "stream",
     "text": [
      "Enumerating objects: 4, done.\n",
      "Counting objects: 100% (4/4), done.\n",
      "Delta compression using up to 12 threads\n",
      "Compressing objects: 100% (2/2), done.\n",
      "Writing objects: 100% (3/3), 285 bytes | 285.00 KiB/s, done.\n",
      "Total 3 (delta 0), reused 1 (delta 0), pack-reused 0\n",
      "remote: \n",
      "remote: Create a pull request for 'dev2_feature' on GitHub by visiting:\u001b[K\n",
      "remote:      https://github.com/vvkh/python-git-sample-repo/pull/new/dev2_feature\u001b[K\n",
      "remote: \n",
      "To github.com:vvkh/python-git-sample-repo.git\n",
      " * [new branch]      dev2_feature -> dev2_feature\n",
      "Branch 'dev2_feature' set up to track remote branch 'dev2_feature' from 'origin'.\n"
     ]
    }
   ],
   "source": [
    "!git push -u origin dev2_feature"
   ]
  },
  {
   "cell_type": "markdown",
   "id": "c511e0c0",
   "metadata": {},
   "source": [
    "Пока dev1 работал над фичей, dev2 уже успел смерджить свою ветку.\n",
    "\n",
    "Это не страшно, потому что они работали над разными файлами — git сможет это корректно смерджить.\n",
    "\n",
    "Но если вдруг dev1 захотел использовать новые файлы из master, а их у него нет?"
   ]
  },
  {
   "cell_type": "code",
   "execution_count": 78,
   "id": "1a6740d1",
   "metadata": {},
   "outputs": [
    {
     "name": "stdout",
     "output_type": "stream",
     "text": [
      "/Users/vvkhomutenko/Projects/hexlet/python-git/python-git-sample-repo/dev_1\n"
     ]
    }
   ],
   "source": [
    "%cd ../dev_1"
   ]
  },
  {
   "cell_type": "code",
   "execution_count": 80,
   "id": "e01f0f39",
   "metadata": {},
   "outputs": [
    {
     "name": "stdout",
     "output_type": "stream",
     "text": [
      "remote: Enumerating objects: 5, done.\u001b[K\n",
      "remote: Counting objects: 100% (5/5), done.\u001b[K\n",
      "remote: Compressing objects: 100% (3/3), done.\u001b[K\n",
      "remote: Total 4 (delta 1), reused 2 (delta 0), pack-reused 0\u001b[K\n",
      "Unpacking objects: 100% (4/4), 779 bytes | 259.00 KiB/s, done.\n",
      "From github.com:vvkh/python-git-sample-repo\n",
      " + 572b872...1727481 dev2_feature -> origin/dev2_feature  (forced update)\n",
      "   8352e37..74011e6  master       -> origin/master\n"
     ]
    }
   ],
   "source": [
    "!git fetch"
   ]
  },
  {
   "cell_type": "code",
   "execution_count": 81,
   "id": "1406177f",
   "metadata": {
    "scrolled": true
   },
   "outputs": [
    {
     "name": "stdout",
     "output_type": "stream",
     "text": [
      "\u001b[33mcommit cd2f0ca8da8f35d4a9645274e5308056abc856c4\u001b[m\u001b[33m (\u001b[m\u001b[1;36mHEAD -> \u001b[m\u001b[1;32mdev1_feature\u001b[m\u001b[33m, \u001b[m\u001b[1;31morigin/dev1_feature\u001b[m\u001b[33m)\u001b[m\r\n",
      "Author: Valentin Khomutenko <valentine.khomutenko@gmail.com>\r\n",
      "Date:   Sun May 16 20:21:26 2021 +0300\r\n",
      "\r\n",
      "    add dev_1_file\r\n",
      "\r\n",
      "\u001b[33mcommit 8352e37a25c18b8a770d9e365243a4a651082e6c\u001b[m\u001b[33m (\u001b[m\u001b[1;32mmaster\u001b[m\u001b[33m)\u001b[m\r\n",
      "Author: Valentin Khomutenko <valentine.khomutenko@gmail.com>\r\n",
      "Date:   Sun May 16 19:13:09 2021 +0300\r\n",
      "\r\n",
      "    changed file\r\n",
      "\r\n",
      "\u001b[33mcommit ad033bd1f60ced176bed1e3768fe3c1ef2ffe204\u001b[m\r\n",
      "Author: Valentin Khomutenko <valentine.khomutenko@gmail.com>\r\n",
      "Date:   Sun May 16 14:29:08 2021 +0300\r\n",
      "\r\n",
      "    add file\r\n"
     ]
    }
   ],
   "source": [
    "!git log"
   ]
  },
  {
   "cell_type": "code",
   "execution_count": 82,
   "id": "d3c1401f",
   "metadata": {},
   "outputs": [
    {
     "name": "stdout",
     "output_type": "stream",
     "text": [
      "Switched to branch 'master'\r\n",
      "Your branch is behind 'origin/master' by 2 commits, and can be fast-forwarded.\r\n",
      "  (use \"git pull\" to update your local branch)\r\n"
     ]
    }
   ],
   "source": [
    "!git checkout master"
   ]
  },
  {
   "cell_type": "code",
   "execution_count": 83,
   "id": "91701a30",
   "metadata": {
    "scrolled": true
   },
   "outputs": [
    {
     "name": "stdout",
     "output_type": "stream",
     "text": [
      "\u001b[33mhint: Pulling without specifying how to reconcile divergent branches is\u001b[m\n",
      "\u001b[33mhint: discouraged. You can squelch this message by running one of the following\u001b[m\n",
      "\u001b[33mhint: commands sometime before your next pull:\u001b[m\n",
      "\u001b[33mhint: \u001b[m\n",
      "\u001b[33mhint:   git config pull.rebase false  # merge (the default strategy)\u001b[m\n",
      "\u001b[33mhint:   git config pull.rebase true   # rebase\u001b[m\n",
      "\u001b[33mhint:   git config pull.ff only       # fast-forward only\u001b[m\n",
      "\u001b[33mhint: \u001b[m\n",
      "\u001b[33mhint: You can replace \"git config\" with \"git config --global\" to set a default\u001b[m\n",
      "\u001b[33mhint: preference for all repositories. You can also pass --rebase, --no-rebase,\u001b[m\n",
      "\u001b[33mhint: or --ff-only on the command line to override the configured default per\u001b[m\n",
      "\u001b[33mhint: invocation.\u001b[m\n",
      "Updating 8352e37..74011e6\n",
      "Fast-forward\n",
      " dev_2_file | 1 \u001b[32m+\u001b[m\n",
      " 1 file changed, 1 insertion(+)\n",
      " create mode 100644 dev_2_file\n"
     ]
    }
   ],
   "source": [
    "!git pull"
   ]
  },
  {
   "cell_type": "code",
   "execution_count": 84,
   "id": "8e3264ec",
   "metadata": {
    "scrolled": true
   },
   "outputs": [
    {
     "name": "stdout",
     "output_type": "stream",
     "text": [
      "Switched to branch 'dev1_feature'\r\n",
      "Your branch is up to date with 'origin/dev1_feature'.\r\n"
     ]
    }
   ],
   "source": [
    "!git checkout dev1_feature"
   ]
  },
  {
   "cell_type": "code",
   "execution_count": 85,
   "id": "6e578551",
   "metadata": {},
   "outputs": [
    {
     "name": "stdout",
     "output_type": "stream",
     "text": [
      "Merge made by the 'recursive' strategy.\r\n",
      " dev_2_file | 1 \u001b[32m+\u001b[m\r\n",
      " 1 file changed, 1 insertion(+)\r\n",
      " create mode 100644 dev_2_file\r\n"
     ]
    }
   ],
   "source": [
    "!git merge master --commit --no-edit"
   ]
  },
  {
   "cell_type": "code",
   "execution_count": 90,
   "id": "a454434e",
   "metadata": {
    "scrolled": true
   },
   "outputs": [
    {
     "name": "stdout",
     "output_type": "stream",
     "text": [
      "\u001b[33mcommit cd2f0ca8da8f35d4a9645274e5308056abc856c4\u001b[m\u001b[33m (\u001b[m\u001b[1;36mHEAD -> \u001b[m\u001b[1;32mdev1_feature\u001b[m\u001b[33m, \u001b[m\u001b[1;31morigin/dev1_feature\u001b[m\u001b[33m)\u001b[m\r\n",
      "Author: Valentin Khomutenko <valentine.khomutenko@gmail.com>\r\n",
      "Date:   Sun May 16 20:21:26 2021 +0300\r\n",
      "\r\n",
      "    add dev_1_file\r\n",
      "\r\n",
      "\u001b[33mcommit 8352e37a25c18b8a770d9e365243a4a651082e6c\u001b[m\r\n",
      "Author: Valentin Khomutenko <valentine.khomutenko@gmail.com>\r\n",
      "Date:   Sun May 16 19:13:09 2021 +0300\r\n",
      "\r\n",
      "    changed file\r\n",
      "\r\n",
      "\u001b[33mcommit ad033bd1f60ced176bed1e3768fe3c1ef2ffe204\u001b[m\r\n",
      "Author: Valentin Khomutenko <valentine.khomutenko@gmail.com>\r\n",
      "Date:   Sun May 16 14:29:08 2021 +0300\r\n",
      "\r\n",
      "    add file\r\n"
     ]
    }
   ],
   "source": [
    "!git log"
   ]
  },
  {
   "cell_type": "markdown",
   "id": "9d3f4ca1",
   "metadata": {},
   "source": [
    "Rebase вместо merge"
   ]
  },
  {
   "cell_type": "code",
   "execution_count": 89,
   "id": "92fbc685",
   "metadata": {},
   "outputs": [
    {
     "name": "stdout",
     "output_type": "stream",
     "text": [
      "HEAD is now at cd2f0ca add dev_1_file\r\n"
     ]
    }
   ],
   "source": [
    "!git reset --hard origin/dev1_feature"
   ]
  },
  {
   "cell_type": "code",
   "execution_count": 91,
   "id": "591b5c54",
   "metadata": {},
   "outputs": [
    {
     "name": "stdout",
     "output_type": "stream",
     "text": [
      "Rebasing (1/1)\r",
      "\r",
      "\u001b[KSuccessfully rebased and updated refs/heads/dev1_feature.\r\n"
     ]
    }
   ],
   "source": [
    "!git rebase master"
   ]
  },
  {
   "cell_type": "code",
   "execution_count": 92,
   "id": "300d2ae8",
   "metadata": {
    "scrolled": true
   },
   "outputs": [
    {
     "name": "stdout",
     "output_type": "stream",
     "text": [
      "\u001b[33mcommit 43e70fbfa9607ff29f6832f5fa06961973500f85\u001b[m\u001b[33m (\u001b[m\u001b[1;36mHEAD -> \u001b[m\u001b[1;32mdev1_feature\u001b[m\u001b[33m)\u001b[m\r\n",
      "Author: Valentin Khomutenko <valentine.khomutenko@gmail.com>\r\n",
      "Date:   Sun May 16 20:21:26 2021 +0300\r\n",
      "\r\n",
      "    add dev_1_file\r\n",
      "\r\n",
      "\u001b[33mcommit 74011e68c2a3ab991e1c4c515bdd73e738661084\u001b[m\u001b[33m (\u001b[m\u001b[1;31morigin/master\u001b[m\u001b[33m, \u001b[m\u001b[1;31morigin/HEAD\u001b[m\u001b[33m, \u001b[m\u001b[1;32mmaster\u001b[m\u001b[33m)\u001b[m\r\n",
      "Merge: 8352e37 1727481\r\n",
      "Author: Valentin Khomutenko <valentine.khomutenko@gmail.com>\r\n",
      "Date:   Sun May 16 20:23:10 2021 +0300\r\n",
      "\r\n",
      "    Merge pull request #6 from vvkh/dev2_feature\r\n",
      "    \r\n",
      "    add dev_2_file\r\n",
      "\r\n",
      "\u001b[33mcommit 1727481acc7df3b2fa87cbd3b00a661bda2f808b\u001b[m\u001b[33m (\u001b[m\u001b[1;31morigin/dev2_feature\u001b[m\u001b[33m)\u001b[m\r\n",
      "Author: Valentin Khomutenko <valentine.khomutenko@gmail.com>\r\n",
      "Date:   Sun May 16 20:22:33 2021 +0300\r\n",
      "\r\n",
      "    add dev_2_file\r\n",
      "\r\n",
      "\u001b[33mcommit 8352e37a25c18b8a770d9e365243a4a651082e6c\u001b[m\r\n",
      "Author: Valentin Khomutenko <valentine.khomutenko@gmail.com>\r\n",
      "Date:   Sun May 16 19:13:09 2021 +0300\r\n",
      "\r\n",
      "    changed file\r\n",
      "\r\n",
      "\u001b[33mcommit ad033bd1f60ced176bed1e3768fe3c1ef2ffe204\u001b[m\r\n",
      "Author: Valentin Khomutenko <valentine.khomutenko@gmail.com>\r\n",
      "Date:   Sun May 16 14:29:08 2021 +0300\r\n",
      "\r\n",
      "    add file\r\n"
     ]
    }
   ],
   "source": [
    "!git log"
   ]
  },
  {
   "cell_type": "code",
   "execution_count": 93,
   "id": "bcafceb5",
   "metadata": {},
   "outputs": [
    {
     "name": "stdout",
     "output_type": "stream",
     "text": [
      "On branch dev1_feature\r\n",
      "Your branch and 'origin/dev1_feature' have diverged,\r\n",
      "and have 3 and 1 different commits each, respectively.\r\n",
      "  (use \"git pull\" to merge the remote branch into yours)\r\n",
      "\r\n",
      "nothing to commit, working tree clean\r\n"
     ]
    }
   ],
   "source": [
    "!git status"
   ]
  },
  {
   "cell_type": "code",
   "execution_count": 94,
   "id": "0a4d2056",
   "metadata": {},
   "outputs": [
    {
     "name": "stdout",
     "output_type": "stream",
     "text": [
      "Enumerating objects: 4, done.\n",
      "Counting objects: 100% (4/4), done.\n",
      "Delta compression using up to 12 threads\n",
      "Compressing objects: 100% (2/2), done.\n",
      "Writing objects: 100% (3/3), 315 bytes | 315.00 KiB/s, done.\n",
      "Total 3 (delta 0), reused 1 (delta 0), pack-reused 0\n",
      "To github.com:vvkh/python-git-sample-repo.git\n",
      " + cd2f0ca...43e70fb dev1_feature -> dev1_feature (forced update)\n"
     ]
    }
   ],
   "source": [
    "!git push -f"
   ]
  },
  {
   "cell_type": "code",
   "execution_count": 95,
   "id": "e49ef6e6",
   "metadata": {},
   "outputs": [
    {
     "name": "stdout",
     "output_type": "stream",
     "text": [
      "\u001b[33mcommit 43e70fbfa9607ff29f6832f5fa06961973500f85\u001b[m\u001b[33m (\u001b[m\u001b[1;36mHEAD -> \u001b[m\u001b[1;32mdev1_feature\u001b[m\u001b[33m, \u001b[m\u001b[1;31morigin/dev1_feature\u001b[m\u001b[33m)\u001b[m\r\n",
      "Author: Valentin Khomutenko <valentine.khomutenko@gmail.com>\r\n",
      "Date:   Sun May 16 20:21:26 2021 +0300\r\n",
      "\r\n",
      "    add dev_1_file\r\n",
      "\r\n",
      "\u001b[33mcommit 74011e68c2a3ab991e1c4c515bdd73e738661084\u001b[m\u001b[33m (\u001b[m\u001b[1;31morigin/master\u001b[m\u001b[33m, \u001b[m\u001b[1;31morigin/HEAD\u001b[m\u001b[33m, \u001b[m\u001b[1;32mmaster\u001b[m\u001b[33m)\u001b[m\r\n",
      "Merge: 8352e37 1727481\r\n",
      "Author: Valentin Khomutenko <valentine.khomutenko@gmail.com>\r\n",
      "Date:   Sun May 16 20:23:10 2021 +0300\r\n",
      "\r\n",
      "    Merge pull request #6 from vvkh/dev2_feature\r\n",
      "    \r\n",
      "    add dev_2_file\r\n",
      "\r\n",
      "\u001b[33mcommit 1727481acc7df3b2fa87cbd3b00a661bda2f808b\u001b[m\u001b[33m (\u001b[m\u001b[1;31morigin/dev2_feature\u001b[m\u001b[33m)\u001b[m\r\n",
      "Author: Valentin Khomutenko <valentine.khomutenko@gmail.com>\r\n",
      "Date:   Sun May 16 20:22:33 2021 +0300\r\n",
      "\r\n",
      "    add dev_2_file\r\n",
      "\r\n",
      "\u001b[33mcommit 8352e37a25c18b8a770d9e365243a4a651082e6c\u001b[m\r\n",
      "Author: Valentin Khomutenko <valentine.khomutenko@gmail.com>\r\n",
      "Date:   Sun May 16 19:13:09 2021 +0300\r\n",
      "\r\n",
      "    changed file\r\n",
      "\r\n",
      "\u001b[33mcommit ad033bd1f60ced176bed1e3768fe3c1ef2ffe204\u001b[m\r\n",
      "Author: Valentin Khomutenko <valentine.khomutenko@gmail.com>\r\n",
      "Date:   Sun May 16 14:29:08 2021 +0300\r\n",
      "\r\n",
      "    add file\r\n"
     ]
    }
   ],
   "source": [
    "!git log"
   ]
  },
  {
   "cell_type": "markdown",
   "id": "b6d95206",
   "metadata": {},
   "source": [
    "| | Rebase | Merge |\n",
    "| --- | --- | --- |\n",
    "| Хэши коммитов| Меняются | Остаются |\n",
    "| История коммитов | Линейная | Создается merge commit (если не fast-forward) |\n"
   ]
  },
  {
   "cell_type": "markdown",
   "id": "845ca3d9",
   "metadata": {},
   "source": [
    "## Squash коммитов"
   ]
  },
  {
   "cell_type": "code",
   "execution_count": 96,
   "id": "468958f7",
   "metadata": {},
   "outputs": [],
   "source": [
    "!rm -rf ../dev2"
   ]
  },
  {
   "cell_type": "code",
   "execution_count": 97,
   "id": "e488a590",
   "metadata": {},
   "outputs": [],
   "source": [
    "!touch file1 file2 file3 "
   ]
  },
  {
   "cell_type": "code",
   "execution_count": 98,
   "id": "35b719c6",
   "metadata": {},
   "outputs": [
    {
     "name": "stdout",
     "output_type": "stream",
     "text": [
      "[dev1_feature 97f68d0] file1\r\n",
      " 1 file changed, 0 insertions(+), 0 deletions(-)\r\n",
      " create mode 100644 file1\r\n"
     ]
    }
   ],
   "source": [
    "!git add file1 && git commit -m \"file1\""
   ]
  },
  {
   "cell_type": "code",
   "execution_count": 99,
   "id": "bf9aab8b",
   "metadata": {},
   "outputs": [
    {
     "name": "stdout",
     "output_type": "stream",
     "text": [
      "[dev1_feature 698ec6d] file2\r\n",
      " 1 file changed, 0 insertions(+), 0 deletions(-)\r\n",
      " create mode 100644 file2\r\n"
     ]
    }
   ],
   "source": [
    "!git add file2 && git commit -m \"file2\""
   ]
  },
  {
   "cell_type": "code",
   "execution_count": 100,
   "id": "16d02e9b",
   "metadata": {},
   "outputs": [
    {
     "name": "stdout",
     "output_type": "stream",
     "text": [
      "[dev1_feature 07f3ae4] file3\r\n",
      " 1 file changed, 0 insertions(+), 0 deletions(-)\r\n",
      " create mode 100644 file3\r\n"
     ]
    }
   ],
   "source": [
    "!git add file3 && git commit -m \"file3\""
   ]
  },
  {
   "cell_type": "code",
   "execution_count": 101,
   "id": "cdab708a",
   "metadata": {},
   "outputs": [
    {
     "name": "stdout",
     "output_type": "stream",
     "text": [
      "Enumerating objects: 8, done.\n",
      "Counting objects: 100% (8/8), done.\n",
      "Delta compression using up to 12 threads\n",
      "Compressing objects: 100% (6/6), done.\n",
      "Writing objects: 100% (7/7), 686 bytes | 686.00 KiB/s, done.\n",
      "Total 7 (delta 2), reused 1 (delta 0), pack-reused 0\n",
      "remote: Resolving deltas: 100% (2/2), done.\u001b[K\n",
      "To github.com:vvkh/python-git-sample-repo.git\n",
      "   43e70fb..07f3ae4  dev1_feature -> dev1_feature\n"
     ]
    }
   ],
   "source": [
    "!git push"
   ]
  },
  {
   "cell_type": "markdown",
   "id": "417d4f34",
   "metadata": {},
   "source": [
    "`git rebase -i <коммит>`"
   ]
  },
  {
   "cell_type": "code",
   "execution_count": 102,
   "id": "e616b056",
   "metadata": {},
   "outputs": [
    {
     "name": "stdout",
     "output_type": "stream",
     "text": [
      "Switched to branch 'master'\r\n",
      "Your branch is up to date with 'origin/master'.\r\n"
     ]
    }
   ],
   "source": [
    "!git checkout master"
   ]
  },
  {
   "cell_type": "code",
   "execution_count": 103,
   "id": "334113e7",
   "metadata": {},
   "outputs": [
    {
     "name": "stdout",
     "output_type": "stream",
     "text": [
      "\u001b[33mcommit 74011e68c2a3ab991e1c4c515bdd73e738661084\u001b[m\u001b[33m (\u001b[m\u001b[1;36mHEAD -> \u001b[m\u001b[1;32mmaster\u001b[m\u001b[33m, \u001b[m\u001b[1;31morigin/master\u001b[m\u001b[33m, \u001b[m\u001b[1;31morigin/HEAD\u001b[m\u001b[33m)\u001b[m\r\n",
      "Merge: 8352e37 1727481\r\n",
      "Author: Valentin Khomutenko <valentine.khomutenko@gmail.com>\r\n",
      "Date:   Sun May 16 20:23:10 2021 +0300\r\n",
      "\r\n",
      "    Merge pull request #6 from vvkh/dev2_feature\r\n",
      "    \r\n",
      "    add dev_2_file\r\n",
      "\r\n",
      "\u001b[33mcommit 1727481acc7df3b2fa87cbd3b00a661bda2f808b\u001b[m\u001b[33m (\u001b[m\u001b[1;31morigin/dev2_feature\u001b[m\u001b[33m)\u001b[m\r\n",
      "Author: Valentin Khomutenko <valentine.khomutenko@gmail.com>\r\n",
      "Date:   Sun May 16 20:22:33 2021 +0300\r\n",
      "\r\n",
      "    add dev_2_file\r\n",
      "\r\n",
      "\u001b[33mcommit 8352e37a25c18b8a770d9e365243a4a651082e6c\u001b[m\r\n",
      "Author: Valentin Khomutenko <valentine.khomutenko@gmail.com>\r\n",
      "Date:   Sun May 16 19:13:09 2021 +0300\r\n",
      "\r\n",
      "    changed file\r\n",
      "\r\n",
      "\u001b[33mcommit ad033bd1f60ced176bed1e3768fe3c1ef2ffe204\u001b[m\r\n",
      "Author: Valentin Khomutenko <valentine.khomutenko@gmail.com>\r\n",
      "Date:   Sun May 16 14:29:08 2021 +0300\r\n",
      "\r\n",
      "    add file\r\n"
     ]
    }
   ],
   "source": [
    "!git log"
   ]
  },
  {
   "cell_type": "code",
   "execution_count": 104,
   "id": "5e7d5974",
   "metadata": {},
   "outputs": [
    {
     "name": "stdout",
     "output_type": "stream",
     "text": [
      "Unstaged changes after reset:\n",
      "M\tfile\n",
      "Total 0 (delta 0), reused 0 (delta 0), pack-reused 0\n",
      "To github.com:vvkh/python-git-sample-repo.git\n",
      " + 74011e6...ad033bd master -> master (forced update)\n"
     ]
    }
   ],
   "source": [
    "!git reset ad033bd1f60ced176bed1e3768fe3c1ef2ffe204 && git push --force"
   ]
  },
  {
   "cell_type": "code",
   "execution_count": 105,
   "id": "ffd930ad",
   "metadata": {},
   "outputs": [
    {
     "name": "stdout",
     "output_type": "stream",
     "text": [
      "\u001b[33mcommit ad033bd1f60ced176bed1e3768fe3c1ef2ffe204\u001b[m\u001b[33m (\u001b[m\u001b[1;36mHEAD -> \u001b[m\u001b[1;32mmaster\u001b[m\u001b[33m, \u001b[m\u001b[1;31morigin/master\u001b[m\u001b[33m, \u001b[m\u001b[1;31morigin/HEAD\u001b[m\u001b[33m)\u001b[m\r\n",
      "Author: Valentin Khomutenko <valentine.khomutenko@gmail.com>\r\n",
      "Date:   Sun May 16 14:29:08 2021 +0300\r\n",
      "\r\n",
      "    add file\r\n"
     ]
    }
   ],
   "source": [
    "!git log\n"
   ]
  },
  {
   "cell_type": "code",
   "execution_count": 106,
   "id": "2cff15da",
   "metadata": {},
   "outputs": [
    {
     "name": "stdout",
     "output_type": "stream",
     "text": [
      "/Users/vvkhomutenko/Projects/hexlet/python-git/python-git-sample-repo\n"
     ]
    }
   ],
   "source": [
    "%cd .."
   ]
  },
  {
   "cell_type": "code",
   "execution_count": 107,
   "id": "94d5a5d2",
   "metadata": {},
   "outputs": [],
   "source": [
    "!rm -rf dev_1 dev_2 python-git-sample-repo"
   ]
  },
  {
   "cell_type": "markdown",
   "id": "593d4679",
   "metadata": {},
   "source": [
    "## Git хуки"
   ]
  },
  {
   "cell_type": "code",
   "execution_count": 108,
   "id": "1e6405a5",
   "metadata": {},
   "outputs": [
    {
     "name": "stdout",
     "output_type": "stream",
     "text": [
      "\u001b[31mapplypatch-msg.sample\u001b[m\u001b[m     \u001b[31mpre-commit.sample\u001b[m\u001b[m         \u001b[31mprepare-commit-msg.sample\u001b[m\u001b[m\r\n",
      "\u001b[31mcommit-msg.sample\u001b[m\u001b[m         \u001b[31mpre-merge-commit.sample\u001b[m\u001b[m   \u001b[31mpush-to-checkout.sample\u001b[m\u001b[m\r\n",
      "\u001b[31mfsmonitor-watchman.sample\u001b[m\u001b[m \u001b[31mpre-push.sample\u001b[m\u001b[m           \u001b[31mupdate.sample\u001b[m\u001b[m\r\n",
      "\u001b[31mpost-update.sample\u001b[m\u001b[m        \u001b[31mpre-rebase.sample\u001b[m\u001b[m\r\n",
      "\u001b[31mpre-applypatch.sample\u001b[m\u001b[m     \u001b[31mpre-receive.sample\u001b[m\u001b[m\r\n"
     ]
    }
   ],
   "source": [
    "!ls .git/hooks"
   ]
  },
  {
   "cell_type": "code",
   "execution_count": 109,
   "id": "c9473a62",
   "metadata": {
    "scrolled": false
   },
   "outputs": [
    {
     "name": "stdout",
     "output_type": "stream",
     "text": [
      "#!/bin/sh\r\n",
      "#\r\n",
      "# An example hook script to check the commit log message.\r\n",
      "# Called by \"git commit\" with one argument, the name of the file\r\n",
      "# that has the commit message.  The hook should exit with non-zero\r\n",
      "# status after issuing an appropriate message if it wants to stop the\r\n",
      "# commit.  The hook is allowed to edit the commit message file.\r\n",
      "#\r\n",
      "# To enable this hook, rename this file to \"commit-msg\".\r\n",
      "\r\n",
      "# Uncomment the below to add a Signed-off-by line to the message.\r\n",
      "# Doing this in a hook is a bad idea in general, but the prepare-commit-msg\r\n",
      "# hook is more suited to it.\r\n",
      "#\r\n",
      "# SOB=$(git var GIT_AUTHOR_IDENT | sed -n 's/^\\(.*>\\).*$/Signed-off-by: \\1/p')\r\n",
      "# grep -qs \"^$SOB\" \"$1\" || echo \"$SOB\" >> \"$1\"\r\n",
      "\r\n",
      "# This example catches duplicate Signed-off-by lines.\r\n",
      "\r\n",
      "test \"\" = \"$(grep '^Signed-off-by: ' \"$1\" |\r\n",
      "\t sort | uniq -c | sed -e '/^[ \t]*1[ \t]/d')\" || {\r\n",
      "\techo >&2 Duplicate Signed-off-by lines.\r\n",
      "\texit 1\r\n",
      "}\r\n"
     ]
    }
   ],
   "source": [
    "!cat .git/hooks/commit-msg.sample "
   ]
  },
  {
   "cell_type": "code",
   "execution_count": 112,
   "id": "10f36c5b",
   "metadata": {},
   "outputs": [
    {
     "name": "stdout",
     "output_type": "stream",
     "text": [
      "/Users/vvkhomutenko/Projects/hexlet/python-git\n"
     ]
    }
   ],
   "source": [
    "%cd .."
   ]
  },
  {
   "cell_type": "code",
   "execution_count": 114,
   "id": "dbbe027b",
   "metadata": {},
   "outputs": [],
   "source": [
    "!cp sample_hook .git/hooks/pre-commit && chmod +x .git/hooks/pre-commit"
   ]
  },
  {
   "cell_type": "code",
   "execution_count": 113,
   "id": "f527d692",
   "metadata": {},
   "outputs": [
    {
     "name": "stdout",
     "output_type": "stream",
     "text": [
      "make lint\r\n"
     ]
    }
   ],
   "source": [
    "!cat sample_hook"
   ]
  },
  {
   "cell_type": "code",
   "execution_count": 115,
   "id": "aad39387",
   "metadata": {},
   "outputs": [],
   "source": [
    "!echo \"hello world\" >> file"
   ]
  },
  {
   "cell_type": "code",
   "execution_count": 116,
   "id": "4de8c6b9",
   "metadata": {},
   "outputs": [
    {
     "name": "stdout",
     "output_type": "stream",
     "text": [
      "echo \"error!\"\n",
      "error!\n",
      "exit 1\n",
      "make[1]: *** [lint] Error 1\n"
     ]
    }
   ],
   "source": [
    "!git add file && git commit -m \"add file\""
   ]
  },
  {
   "cell_type": "code",
   "execution_count": 117,
   "id": "c6dcc045",
   "metadata": {},
   "outputs": [
    {
     "name": "stdout",
     "output_type": "stream",
     "text": [
      "install:\r\n",
      "\tpoetry install\r\n",
      "\r\n",
      "up:\r\n",
      "\tpoetry run jupyter notebook\r\n",
      "\r\n",
      "lint:\r\n",
      "\techo \"error!\"\r\n",
      "\texit 1\r\n"
     ]
    }
   ],
   "source": [
    "!cat Makefile"
   ]
  },
  {
   "cell_type": "code",
   "execution_count": 118,
   "id": "7986ec11",
   "metadata": {},
   "outputs": [
    {
     "name": "stdout",
     "output_type": "stream",
     "text": [
      "[master e53f601] add file\r\n",
      " 1 file changed, 1 insertion(+)\r\n"
     ]
    }
   ],
   "source": [
    "!git add file && git commit --no-verify -m \"add file\""
   ]
  },
  {
   "cell_type": "code",
   "execution_count": 119,
   "id": "fd94b32a",
   "metadata": {},
   "outputs": [
    {
     "name": "stdout",
     "output_type": "stream",
     "text": [
      "#!/usr/bin/env python\r\n",
      "import sys\r\n",
      "\r\n",
      "print('hello world')\r\n",
      "sys.exit(1)\r\n"
     ]
    }
   ],
   "source": [
    "!cat sample_hook_python"
   ]
  },
  {
   "cell_type": "code",
   "execution_count": 120,
   "id": "fa0d6ecb",
   "metadata": {},
   "outputs": [],
   "source": [
    "!cp sample_hook_python .git/hooks/pre-commit && chmod +x .git/hooks/pre-commit"
   ]
  },
  {
   "cell_type": "code",
   "execution_count": 124,
   "id": "73cd6d5a",
   "metadata": {},
   "outputs": [],
   "source": [
    "!echo \"hello world\" >> file"
   ]
  },
  {
   "cell_type": "code",
   "execution_count": 125,
   "id": "939939cb",
   "metadata": {},
   "outputs": [
    {
     "name": "stdout",
     "output_type": "stream",
     "text": [
      "hello world\r\n"
     ]
    }
   ],
   "source": [
    "!git add file && git commit -m \"add file\""
   ]
  },
  {
   "cell_type": "code",
   "execution_count": 126,
   "id": "7e6e49d8",
   "metadata": {},
   "outputs": [
    {
     "name": "stdout",
     "output_type": "stream",
     "text": [
      "\u001b[33mcommit e53f601177dae9c908cd5773cfbb803c24c171e2\u001b[m\u001b[33m (\u001b[m\u001b[1;36mHEAD -> \u001b[m\u001b[1;32mmaster\u001b[m\u001b[33m)\u001b[m\r\n",
      "Author: Valentin Khomutenko <valentine.khomutenko@gmail.com>\r\n",
      "Date:   Sun May 16 20:55:11 2021 +0300\r\n",
      "\r\n",
      "    add file\r\n",
      "\r\n",
      "\u001b[33mcommit 94406ff79699b30a6af7f4a780aa8e6fb7c6fd91\u001b[m\u001b[33m (\u001b[m\u001b[1;31morigin/master\u001b[m\u001b[33m)\u001b[m\r\n",
      "Author: Valentin Khomutenko <valentine.khomutenko@gmail.com>\r\n",
      "Date:   Sun May 16 16:40:24 2021 +0300\r\n",
      "\r\n",
      "    initial commit\r\n"
     ]
    }
   ],
   "source": [
    "!git log"
   ]
  },
  {
   "cell_type": "markdown",
   "id": "da81c309",
   "metadata": {},
   "source": [
    "Утилита для декларативного описания гит-хуков\n",
    "\n",
    "[Pre-Commit](https://pre-commit.com/)"
   ]
  }
 ],
 "metadata": {
  "kernelspec": {
   "display_name": "Python 3",
   "language": "python",
   "name": "python3"
  },
  "language_info": {
   "codemirror_mode": {
    "name": "ipython",
    "version": 3
   },
   "file_extension": ".py",
   "mimetype": "text/x-python",
   "name": "python",
   "nbconvert_exporter": "python",
   "pygments_lexer": "ipython3",
   "version": "3.9.4"
  }
 },
 "nbformat": 4,
 "nbformat_minor": 5
}
