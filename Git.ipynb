{
 "cells": [
  {
   "cell_type": "code",
   "execution_count": 116,
   "id": "6ca43840",
   "metadata": {},
   "outputs": [],
   "source": [
    "SAMPLE_REPO_URL = 'git@github.com:vvkh/python-git-sample-repo.git'\n",
    "SAMPLE_NEW_REPO_SSH_URL = 'git@gitlab.com:valentine.khomutenko/python-git-sample-repo.git'\n",
    "SAMPLE_NEW_REPO_HTTPS_URL = 'https://gitlab.com/valentine.khomutenko/python-git-sample-repo.git'"
   ]
  },
  {
   "cell_type": "markdown",
   "id": "5af6236e",
   "metadata": {},
   "source": [
    "# Простое клонирование репозитория"
   ]
  },
  {
   "cell_type": "code",
   "execution_count": 4,
   "id": "f322b68e",
   "metadata": {},
   "outputs": [
    {
     "name": "stdout",
     "output_type": "stream",
     "text": [
      "Cloning into 'python-git-sample-repo'...\n",
      "remote: Enumerating objects: 3, done.\u001b[K\n",
      "remote: Counting objects: 100% (3/3), done.\u001b[K\n",
      "remote: Total 3 (delta 0), reused 3 (delta 0), pack-reused 0\u001b[K\n",
      "Receiving objects: 100% (3/3), done.\n"
     ]
    }
   ],
   "source": [
    "!git clone $SAMPLE_REPO_URL"
   ]
  },
  {
   "cell_type": "code",
   "execution_count": 2,
   "id": "369c7578",
   "metadata": {
    "scrolled": true
   },
   "outputs": [
    {
     "name": "stdout",
     "output_type": "stream",
     "text": [
      "/Users/vvkhomutenko/Projects/hexlet/python-git/python-git-sample-repo\n"
     ]
    }
   ],
   "source": [
    "%cd python-git-sample-repo/"
   ]
  },
  {
   "cell_type": "code",
   "execution_count": 6,
   "id": "a5c29407",
   "metadata": {},
   "outputs": [
    {
     "name": "stdout",
     "output_type": "stream",
     "text": [
      "On branch master\r\n",
      "Your branch is up to date with 'origin/master'.\r\n",
      "\r\n",
      "nothing to commit, working tree clean\r\n"
     ]
    }
   ],
   "source": [
    "!git status"
   ]
  },
  {
   "cell_type": "code",
   "execution_count": 7,
   "id": "2e52cba7",
   "metadata": {},
   "outputs": [],
   "source": [
    "!echo \"hello world\" > file"
   ]
  },
  {
   "cell_type": "code",
   "execution_count": 8,
   "id": "ba24c9a8",
   "metadata": {},
   "outputs": [
    {
     "name": "stdout",
     "output_type": "stream",
     "text": [
      "On branch master\r\n",
      "Your branch is up to date with 'origin/master'.\r\n",
      "\r\n",
      "Changes not staged for commit:\r\n",
      "  (use \"git add <file>...\" to update what will be committed)\r\n",
      "  (use \"git restore <file>...\" to discard changes in working directory)\r\n",
      "\t\u001b[31mmodified:   file\u001b[m\r\n",
      "\r\n",
      "no changes added to commit (use \"git add\" and/or \"git commit -a\")\r\n"
     ]
    }
   ],
   "source": [
    "!git status"
   ]
  },
  {
   "cell_type": "code",
   "execution_count": 9,
   "id": "64b6c2eb",
   "metadata": {},
   "outputs": [
    {
     "name": "stdout",
     "output_type": "stream",
     "text": [
      "[master 4587fc6] changed file\r\n",
      " 1 file changed, 1 insertion(+)\r\n"
     ]
    }
   ],
   "source": [
    "!git add -A && git commit -m \"changed file\""
   ]
  },
  {
   "cell_type": "code",
   "execution_count": 10,
   "id": "782d8c7a",
   "metadata": {},
   "outputs": [
    {
     "name": "stdout",
     "output_type": "stream",
     "text": [
      "On branch master\r\n",
      "Your branch is ahead of 'origin/master' by 1 commit.\r\n",
      "  (use \"git push\" to publish your local commits)\r\n",
      "\r\n",
      "nothing to commit, working tree clean\r\n"
     ]
    }
   ],
   "source": [
    "!git status"
   ]
  },
  {
   "cell_type": "code",
   "execution_count": 11,
   "id": "195accb0",
   "metadata": {},
   "outputs": [
    {
     "name": "stdout",
     "output_type": "stream",
     "text": [
      "Enumerating objects: 5, done.\n",
      "Counting objects: 100% (5/5), done.\n",
      "Writing objects: 100% (3/3), 259 bytes | 259.00 KiB/s, done.\n",
      "Total 3 (delta 0), reused 0 (delta 0), pack-reused 0\n",
      "To github.com:vvkh/python-git-sample-repo.git\n",
      "   ad033bd..4587fc6  master -> master\n"
     ]
    }
   ],
   "source": [
    "!git push"
   ]
  },
  {
   "cell_type": "markdown",
   "id": "c7799925",
   "metadata": {},
   "source": [
    "# Remote"
   ]
  },
  {
   "cell_type": "code",
   "execution_count": 10,
   "id": "e1a7c859",
   "metadata": {},
   "outputs": [
    {
     "name": "stdout",
     "output_type": "stream",
     "text": [
      "usage: git remote [-v | --verbose]\r\n",
      "   or: git remote add [-t <branch>] [-m <master>] [-f] [--tags | --no-tags] [--mirror=<fetch|push>] <name> <url>\r\n",
      "   or: git remote rename <old> <new>\r\n",
      "   or: git remote remove <name>\r\n",
      "   or: git remote set-head <name> (-a | --auto | -d | --delete | <branch>)\r\n",
      "   or: git remote [-v | --verbose] show [-n] <name>\r\n",
      "   or: git remote prune [-n | --dry-run] <name>\r\n",
      "   or: git remote [-v | --verbose] update [-p | --prune] [(<group> | <remote>)...]\r\n",
      "   or: git remote set-branches [--add] <name> <branch>...\r\n",
      "   or: git remote get-url [--push] [--all] <name>\r\n",
      "   or: git remote set-url [--push] <name> <newurl> [<oldurl>]\r\n",
      "   or: git remote set-url --add <name> <newurl>\r\n",
      "   or: git remote set-url --delete <name> <url>\r\n",
      "\r\n",
      "    -v, --verbose         be verbose; must be placed before a subcommand\r\n",
      "\r\n"
     ]
    }
   ],
   "source": [
    "!git remote -h"
   ]
  },
  {
   "cell_type": "code",
   "execution_count": 11,
   "id": "fe630679",
   "metadata": {},
   "outputs": [
    {
     "name": "stdout",
     "output_type": "stream",
     "text": [
      "origin\thttps://github.com/vvkh/python-git-sample-repo.git (fetch)\r\n",
      "origin\thttps://github.com/vvkh/python-git-sample-repo.git (push)\r\n"
     ]
    }
   ],
   "source": [
    "!git remote -v"
   ]
  },
  {
   "cell_type": "code",
   "execution_count": 12,
   "id": "710c5269",
   "metadata": {},
   "outputs": [],
   "source": [
    "!git remote add gitlab $SAMPLE_REPO_SSH_URL"
   ]
  },
  {
   "cell_type": "code",
   "execution_count": 14,
   "id": "0a1eb1ba",
   "metadata": {},
   "outputs": [
    {
     "name": "stdout",
     "output_type": "stream",
     "text": [
      "gitlab\tgit@gitlab.com:valentine.khomutenko/python-git-sample-repo.git (fetch)\r\n",
      "gitlab\tgit@gitlab.com:valentine.khomutenko/python-git-sample-repo.git (push)\r\n",
      "origin\tgit@github.com:vvkh/python-git-sample-repo.git (fetch)\r\n",
      "origin\tgit@github.com:vvkh/python-git-sample-repo.git (push)\r\n"
     ]
    }
   ],
   "source": [
    "!git remote -v"
   ]
  },
  {
   "cell_type": "code",
   "execution_count": 15,
   "id": "9e59d904",
   "metadata": {
    "scrolled": true
   },
   "outputs": [
    {
     "name": "stdout",
     "output_type": "stream",
     "text": [
      "usage: git push [<options>] [<repository> [<refspec>...]]\r\n",
      "\r\n",
      "    -v, --verbose         be more verbose\r\n",
      "    -q, --quiet           be more quiet\r\n",
      "    --repo <repository>   repository\r\n",
      "    --all                 push all refs\r\n",
      "    --mirror              mirror all refs\r\n",
      "    -d, --delete          delete refs\r\n",
      "    --tags                push tags (can't be used with --all or --mirror)\r\n",
      "    -n, --dry-run         dry run\r\n",
      "    --porcelain           machine-readable output\r\n",
      "    -f, --force           force updates\r\n",
      "    --force-with-lease[=<refname>:<expect>]\r\n",
      "                          require old value of ref to be at this value\r\n",
      "    --force-if-includes   require remote updates to be integrated locally\r\n",
      "    --recurse-submodules (check|on-demand|no)\r\n",
      "                          control recursive pushing of submodules\r\n",
      "    --thin                use thin pack\r\n",
      "    --receive-pack <receive-pack>\r\n",
      "                          receive pack program\r\n",
      "    --exec <receive-pack>\r\n",
      "                          receive pack program\r\n",
      "    -u, --set-upstream    set upstream for git pull/status\r\n",
      "    --progress            force progress reporting\r\n",
      "    --prune               prune locally removed refs\r\n",
      "    --no-verify           bypass pre-push hook\r\n",
      "    --follow-tags         push missing but relevant tags\r\n",
      "    --signed[=(yes|no|if-asked)]\r\n",
      "                          GPG sign the push\r\n",
      "    --atomic              request atomic transaction on remote side\r\n",
      "    -o, --push-option <server-specific>\r\n",
      "                          option to transmit\r\n",
      "    -4, --ipv4            use IPv4 addresses only\r\n",
      "    -6, --ipv6            use IPv6 addresses only\r\n",
      "\r\n"
     ]
    }
   ],
   "source": [
    "!git push -h"
   ]
  },
  {
   "cell_type": "code",
   "execution_count": 16,
   "id": "13028118",
   "metadata": {},
   "outputs": [
    {
     "name": "stdout",
     "output_type": "stream",
     "text": [
      "git@gitlab.com: Permission denied (publickey,keyboard-interactive).\r",
      "\r\n",
      "fatal: Could not read from remote repository.\r\n",
      "\r\n",
      "Please make sure you have the correct access rights\r\n",
      "and the repository exists.\r\n"
     ]
    }
   ],
   "source": [
    "!git push gitlab master"
   ]
  },
  {
   "cell_type": "code",
   "execution_count": 19,
   "id": "edadd8ea",
   "metadata": {},
   "outputs": [],
   "source": [
    "!git remote set-url gitlab $SAMPLE_NEW_REPO_HTTPS_URL"
   ]
  },
  {
   "cell_type": "code",
   "execution_count": 20,
   "id": "48015884",
   "metadata": {
    "scrolled": true
   },
   "outputs": [
    {
     "name": "stdout",
     "output_type": "stream",
     "text": [
      "Username for 'https://gitlab.com': ^C\n"
     ]
    }
   ],
   "source": [
    "!git push gitlab master"
   ]
  },
  {
   "cell_type": "code",
   "execution_count": 22,
   "id": "f179ca5d",
   "metadata": {},
   "outputs": [],
   "source": [
    "!git remote set-url gitlab $SAMPLE_NEW_REPO_SSH_URL"
   ]
  },
  {
   "cell_type": "markdown",
   "id": "5728d708",
   "metadata": {},
   "source": [
    "# SSH ключи"
   ]
  },
  {
   "cell_type": "markdown",
   "id": "2fbe250c",
   "metadata": {},
   "source": [
    "* ssh-keygen — для генерации ключей\n",
    "* ~/.ssh — директория с ключами по-умолчанию\n",
    "* \\*.pub файлы — публичные, их можно загружать в сторонние сервисы"
   ]
  },
  {
   "cell_type": "markdown",
   "id": "01621468",
   "metadata": {},
   "source": [
    "# Установка remote без клонирования"
   ]
  },
  {
   "cell_type": "code",
   "execution_count": 6,
   "id": "e2d9f9ed",
   "metadata": {},
   "outputs": [
    {
     "name": "stdout",
     "output_type": "stream",
     "text": [
      "mkdir: ../bare_repo: File exists\r\n"
     ]
    }
   ],
   "source": [
    "mkdir ../bare_repo"
   ]
  },
  {
   "cell_type": "code",
   "execution_count": 7,
   "id": "0732ab5b",
   "metadata": {},
   "outputs": [
    {
     "name": "stdout",
     "output_type": "stream",
     "text": [
      "/Users/vvkhomutenko/Projects/hexlet/python-git/bare_repo\n"
     ]
    }
   ],
   "source": [
    "%cd ../bare_repo"
   ]
  },
  {
   "cell_type": "code",
   "execution_count": 8,
   "id": "e342fd85",
   "metadata": {},
   "outputs": [
    {
     "name": "stdout",
     "output_type": "stream",
     "text": [
      "\u001b[33mhint: Using 'master' as the name for the initial branch. This default branch name\u001b[m\r\n",
      "\u001b[33mhint: is subject to change. To configure the initial branch name to use in all\u001b[m\r\n",
      "\u001b[33mhint: of your new repositories, which will suppress this warning, call:\u001b[m\r\n",
      "\u001b[33mhint: \u001b[m\r\n",
      "\u001b[33mhint: \tgit config --global init.defaultBranch <name>\u001b[m\r\n",
      "\u001b[33mhint: \u001b[m\r\n",
      "\u001b[33mhint: Names commonly chosen instead of 'master' are 'main', 'trunk' and\u001b[m\r\n",
      "\u001b[33mhint: 'development'. The just-created branch can be renamed via this command:\u001b[m\r\n",
      "\u001b[33mhint: \u001b[m\r\n",
      "\u001b[33mhint: \tgit branch -m <name>\u001b[m\r\n",
      "Initialized empty Git repository in /Users/vvkhomutenko/Projects/hexlet/python-git/bare_repo/.git/\r\n"
     ]
    }
   ],
   "source": [
    "!git init"
   ]
  },
  {
   "cell_type": "code",
   "execution_count": 9,
   "id": "44d0321f",
   "metadata": {},
   "outputs": [],
   "source": [
    "!git remote add origin git@github.com:vvkh/python-git-sample-repo.git"
   ]
  },
  {
   "cell_type": "code",
   "execution_count": 11,
   "id": "8af6bc7d",
   "metadata": {},
   "outputs": [
    {
     "name": "stdout",
     "output_type": "stream",
     "text": [
      "origin\tgit@github.com:vvkh/python-git-sample-repo.git (fetch)\r\n",
      "origin\tgit@github.com:vvkh/python-git-sample-repo.git (push)\r\n"
     ]
    }
   ],
   "source": [
    "!git remote -v"
   ]
  },
  {
   "cell_type": "code",
   "execution_count": 44,
   "id": "45d84f9b",
   "metadata": {},
   "outputs": [
    {
     "name": "stdout",
     "output_type": "stream",
     "text": [
      "From github.com:vvkh/python-git-sample-repo\r\n",
      " * branch            master     -> FETCH_HEAD\r\n"
     ]
    }
   ],
   "source": [
    "!git fetch origin master"
   ]
  },
  {
   "cell_type": "code",
   "execution_count": 73,
   "id": "f76ca7a3",
   "metadata": {},
   "outputs": [
    {
     "name": "stdout",
     "output_type": "stream",
     "text": [
      "\u001b[33mhint: Pulling without specifying how to reconcile divergent branches is\u001b[m\n",
      "\u001b[33mhint: discouraged. You can squelch this message by running one of the following\u001b[m\n",
      "\u001b[33mhint: commands sometime before your next pull:\u001b[m\n",
      "\u001b[33mhint: \u001b[m\n",
      "\u001b[33mhint:   git config pull.rebase false  # merge (the default strategy)\u001b[m\n",
      "\u001b[33mhint:   git config pull.rebase true   # rebase\u001b[m\n",
      "\u001b[33mhint:   git config pull.ff only       # fast-forward only\u001b[m\n",
      "\u001b[33mhint: \u001b[m\n",
      "\u001b[33mhint: You can replace \"git config\" with \"git config --global\" to set a default\u001b[m\n",
      "\u001b[33mhint: preference for all repositories. You can also pass --rebase, --no-rebase,\u001b[m\n",
      "\u001b[33mhint: or --ff-only on the command line to override the configured default per\u001b[m\n",
      "\u001b[33mhint: invocation.\u001b[m\n",
      "From github.com:vvkh/python-git-sample-repo\n",
      " * branch            master     -> FETCH_HEAD\n"
     ]
    }
   ],
   "source": [
    "!git pull origin master"
   ]
  },
  {
   "cell_type": "code",
   "execution_count": 78,
   "id": "cc64f077",
   "metadata": {},
   "outputs": [
    {
     "name": "stdout",
     "output_type": "stream",
     "text": [
      "Branch 'master' set up to track remote branch 'master' from 'origin'.\r\n"
     ]
    }
   ],
   "source": [
    "!git branch --set-upstream-to origin/master"
   ]
  },
  {
   "cell_type": "code",
   "execution_count": 79,
   "id": "dc11ac98",
   "metadata": {},
   "outputs": [
    {
     "name": "stdout",
     "output_type": "stream",
     "text": [
      "On branch master\r\n",
      "Your branch is up to date with 'origin/master'.\r\n",
      "\r\n",
      "nothing to commit, working tree clean\r\n"
     ]
    }
   ],
   "source": [
    "!git status"
   ]
  },
  {
   "cell_type": "code",
   "execution_count": 80,
   "id": "ca6b262c",
   "metadata": {},
   "outputs": [
    {
     "name": "stdout",
     "output_type": "stream",
     "text": [
      "/Users/vvkhomutenko/Projects/hexlet/python-git\n"
     ]
    }
   ],
   "source": [
    "%cd .. "
   ]
  },
  {
   "cell_type": "code",
   "execution_count": 88,
   "id": "d921214d",
   "metadata": {},
   "outputs": [],
   "source": [
    "!rm -rf bare_repo"
   ]
  },
  {
   "cell_type": "code",
   "execution_count": 89,
   "id": "1412f7e3",
   "metadata": {},
   "outputs": [
    {
     "name": "stdout",
     "output_type": "stream",
     "text": [
      "/Users/vvkhomutenko/Projects/hexlet/python-git/python-git-sample-repo\n"
     ]
    }
   ],
   "source": [
    "%cd python-git-sample-repo/"
   ]
  },
  {
   "cell_type": "markdown",
   "id": "76e15a21",
   "metadata": {},
   "source": [
    "# Ведение репозитория, push в master"
   ]
  },
  {
   "cell_type": "markdown",
   "id": "48f83c8f",
   "metadata": {},
   "source": [
    "Что плохого в том, чтобы просто пушить в master?"
   ]
  },
  {
   "cell_type": "markdown",
   "id": "65b7e271",
   "metadata": {},
   "source": [
    "Делаем PR"
   ]
  },
  {
   "cell_type": "code",
   "execution_count": 93,
   "id": "3bb129fe",
   "metadata": {},
   "outputs": [
    {
     "name": "stdout",
     "output_type": "stream",
     "text": [
      "Switched to a new branch 'new_feature'\r\n"
     ]
    }
   ],
   "source": [
    "!git checkout -b new_feature"
   ]
  },
  {
   "cell_type": "code",
   "execution_count": 98,
   "id": "c46a5ff2",
   "metadata": {},
   "outputs": [],
   "source": [
    "!echo \"making pr!\" > file && touch new_file"
   ]
  },
  {
   "cell_type": "code",
   "execution_count": 99,
   "id": "9041c58c",
   "metadata": {},
   "outputs": [
    {
     "name": "stdout",
     "output_type": "stream",
     "text": [
      "On branch new_feature\r\n",
      "Your branch is up to date with 'origin/new_feature'.\r\n",
      "\r\n",
      "Untracked files:\r\n",
      "  (use \"git add <file>...\" to include in what will be committed)\r\n",
      "\t\u001b[31mnew_file\u001b[m\r\n",
      "\r\n",
      "nothing added to commit but untracked files present (use \"git add\" to track)\r\n"
     ]
    }
   ],
   "source": [
    "!git status"
   ]
  },
  {
   "cell_type": "code",
   "execution_count": 96,
   "id": "8fc68b48",
   "metadata": {},
   "outputs": [
    {
     "name": "stdout",
     "output_type": "stream",
     "text": [
      "[new_feature 5224a56] update file\n",
      " 1 file changed, 1 insertion(+), 1 deletion(-)\n"
     ]
    }
   ],
   "source": [
    "!git add file && git commit -m \"update file\""
   ]
  },
  {
   "cell_type": "code",
   "execution_count": 97,
   "id": "4fc47ebf",
   "metadata": {
    "scrolled": true
   },
   "outputs": [
    {
     "name": "stdout",
     "output_type": "stream",
     "text": [
      "Enumerating objects: 5, done.\n",
      "Counting objects: 100% (5/5), done.\n",
      "Writing objects: 100% (3/3), 258 bytes | 258.00 KiB/s, done.\n",
      "Total 3 (delta 0), reused 0 (delta 0), pack-reused 0\n",
      "remote: \n",
      "remote: Create a pull request for 'new_feature' on GitHub by visiting:\u001b[K\n",
      "remote:      https://github.com/vvkh/python-git-sample-repo/pull/new/new_feature\u001b[K\n",
      "remote: \n",
      "To github.com:vvkh/python-git-sample-repo.git\n",
      " * [new branch]      new_feature -> new_feature\n",
      "Branch 'new_feature' set up to track remote branch 'new_feature' from 'origin'.\n"
     ]
    }
   ],
   "source": [
    "!git push -u origin new_feature"
   ]
  },
  {
   "cell_type": "code",
   "execution_count": 100,
   "id": "b1d420a9",
   "metadata": {},
   "outputs": [
    {
     "name": "stdout",
     "output_type": "stream",
     "text": [
      "On branch new_feature\r\n",
      "Your branch is up to date with 'origin/new_feature'.\r\n",
      "\r\n",
      "Untracked files:\r\n",
      "  (use \"git add <file>...\" to include in what will be committed)\r\n",
      "\t\u001b[31mnew_file\u001b[m\r\n",
      "\r\n",
      "nothing added to commit but untracked files present (use \"git add\" to track)\r\n"
     ]
    }
   ],
   "source": [
    "!git status"
   ]
  },
  {
   "cell_type": "code",
   "execution_count": 101,
   "id": "d5e06ad4",
   "metadata": {},
   "outputs": [],
   "source": [
    "!git add new_file"
   ]
  },
  {
   "cell_type": "code",
   "execution_count": 105,
   "id": "042d01f3",
   "metadata": {},
   "outputs": [
    {
     "name": "stdout",
     "output_type": "stream",
     "text": [
      "[new_feature d8cdb88] update file\r\n",
      " Date: Sun May 16 15:36:28 2021 +0300\r\n",
      " 2 files changed, 1 insertion(+), 1 deletion(-)\r\n",
      " create mode 100644 new_file\r\n"
     ]
    }
   ],
   "source": [
    "!git commit --amend --m \"update file\""
   ]
  },
  {
   "cell_type": "code",
   "execution_count": 106,
   "id": "3b907438",
   "metadata": {
    "scrolled": true
   },
   "outputs": [
    {
     "name": "stdout",
     "output_type": "stream",
     "text": [
      "On branch new_feature\r\n",
      "Your branch and 'origin/new_feature' have diverged,\r\n",
      "and have 1 and 1 different commits each, respectively.\r\n",
      "  (use \"git pull\" to merge the remote branch into yours)\r\n",
      "\r\n",
      "nothing to commit, working tree clean\r\n"
     ]
    }
   ],
   "source": [
    "!git status"
   ]
  },
  {
   "cell_type": "code",
   "execution_count": 107,
   "id": "b7fa79ea",
   "metadata": {},
   "outputs": [
    {
     "name": "stdout",
     "output_type": "stream",
     "text": [
      "\u001b[33mcommit d8cdb88054fe595b841bfa79c970775d8f9b34f0\u001b[m\u001b[33m (\u001b[m\u001b[1;36mHEAD -> \u001b[m\u001b[1;32mnew_feature\u001b[m\u001b[33m)\u001b[m\r\n",
      "Author: Valentin Khomutenko <valentine.khomutenko@gmail.com>\r\n",
      "Date:   Sun May 16 15:36:28 2021 +0300\r\n",
      "\r\n",
      "    update file\r\n",
      "\r\n",
      "\u001b[33mcommit 4587fc663d68818763fcd65c52285213c579e059\u001b[m\u001b[33m (\u001b[m\u001b[1;31morigin/master\u001b[m\u001b[33m, \u001b[m\u001b[1;31morigin/HEAD\u001b[m\u001b[33m, \u001b[m\u001b[1;32mmaster\u001b[m\u001b[33m)\u001b[m\r\n",
      "Author: Valentin Khomutenko <valentine.khomutenko@gmail.com>\r\n",
      "Date:   Sun May 16 14:31:18 2021 +0300\r\n",
      "\r\n",
      "    changed file\r\n",
      "\r\n",
      "\u001b[33mcommit ad033bd1f60ced176bed1e3768fe3c1ef2ffe204\u001b[m\r\n",
      "Author: Valentin Khomutenko <valentine.khomutenko@gmail.com>\r\n",
      "Date:   Sun May 16 14:29:08 2021 +0300\r\n",
      "\r\n",
      "    add file\r\n"
     ]
    }
   ],
   "source": [
    "!git log"
   ]
  },
  {
   "cell_type": "code",
   "execution_count": 108,
   "id": "bcd6552e",
   "metadata": {},
   "outputs": [
    {
     "name": "stdout",
     "output_type": "stream",
     "text": [
      "Enumerating objects: 6, done.\n",
      "Counting objects: 100% (6/6), done.\n",
      "Delta compression using up to 12 threads\n",
      "Compressing objects: 100% (2/2), done.\n",
      "Writing objects: 100% (4/4), 299 bytes | 299.00 KiB/s, done.\n",
      "Total 4 (delta 0), reused 1 (delta 0), pack-reused 0\n",
      "To github.com:vvkh/python-git-sample-repo.git\n",
      " + 5224a56...d8cdb88 new_feature -> new_feature (forced update)\n"
     ]
    }
   ],
   "source": [
    "!git push -f"
   ]
  },
  {
   "cell_type": "code",
   "execution_count": 109,
   "id": "b370e2be",
   "metadata": {},
   "outputs": [
    {
     "name": "stdout",
     "output_type": "stream",
     "text": [
      "\u001b[33mcommit d8cdb88054fe595b841bfa79c970775d8f9b34f0\u001b[m\u001b[33m (\u001b[m\u001b[1;36mHEAD -> \u001b[m\u001b[1;32mnew_feature\u001b[m\u001b[33m, \u001b[m\u001b[1;31morigin/new_feature\u001b[m\u001b[33m)\u001b[m\r\n",
      "Author: Valentin Khomutenko <valentine.khomutenko@gmail.com>\r\n",
      "Date:   Sun May 16 15:36:28 2021 +0300\r\n",
      "\r\n",
      "    update file\r\n",
      "\r\n",
      "\u001b[33mcommit 4587fc663d68818763fcd65c52285213c579e059\u001b[m\u001b[33m (\u001b[m\u001b[1;31morigin/master\u001b[m\u001b[33m, \u001b[m\u001b[1;31morigin/HEAD\u001b[m\u001b[33m, \u001b[m\u001b[1;32mmaster\u001b[m\u001b[33m)\u001b[m\r\n",
      "Author: Valentin Khomutenko <valentine.khomutenko@gmail.com>\r\n",
      "Date:   Sun May 16 14:31:18 2021 +0300\r\n",
      "\r\n",
      "    changed file\r\n",
      "\r\n",
      "\u001b[33mcommit ad033bd1f60ced176bed1e3768fe3c1ef2ffe204\u001b[m\r\n",
      "Author: Valentin Khomutenko <valentine.khomutenko@gmail.com>\r\n",
      "Date:   Sun May 16 14:29:08 2021 +0300\r\n",
      "\r\n",
      "    add file\r\n"
     ]
    }
   ],
   "source": [
    "!git log"
   ]
  },
  {
   "cell_type": "markdown",
   "id": "225e68e9",
   "metadata": {},
   "source": [
    "## force push может удалить существующие коммиты, с этим нужно быть осторожным!\n",
    "\n",
    "Обычно безопасно:\n",
    "\n",
    "— Если это ваша ветка или никто больше не делал веток от ваших коммитов\n",
    "\n",
    "— Если вы точно знаете, что делаете :) "
   ]
  },
  {
   "cell_type": "markdown",
   "id": "0275919f",
   "metadata": {},
   "source": [
    "# Нюансы работы в команде"
   ]
  },
  {
   "cell_type": "markdown",
   "id": "e19fbe84",
   "metadata": {},
   "source": [
    "## Варианты ветвления\n",
    "\n",
    "* feature → master \n",
    "* feature → dev → master\n",
    "* [git flow](https://bitworks.software/2019-03-12-gitflow-workflow.html)"
   ]
  },
  {
   "cell_type": "markdown",
   "id": "c5ffffc6",
   "metadata": {},
   "source": [
    "## Перенос изменений"
   ]
  },
  {
   "cell_type": "code",
   "execution_count": 117,
   "id": "514d754e",
   "metadata": {},
   "outputs": [
    {
     "name": "stdout",
     "output_type": "stream",
     "text": [
      "Cloning into 'dev_1'...\n",
      "remote: Enumerating objects: 10, done.\u001b[K\n",
      "remote: Counting objects: 100% (10/10), done.\u001b[K\n",
      "remote: Compressing objects: 100% (5/5), done.\u001b[K\n",
      "Receiving objects: 100% (10/10), done.\n",
      "Resolving deltas: 100% (2/2), done.\n",
      "remote: Total 10 (delta 2), reused 7 (delta 0), pack-reused 0\u001b[K\n"
     ]
    }
   ],
   "source": [
    "!git clone $SAMPLE_REPO_URL dev_1"
   ]
  },
  {
   "cell_type": "code",
   "execution_count": 119,
   "id": "dcd1af46",
   "metadata": {},
   "outputs": [
    {
     "name": "stdout",
     "output_type": "stream",
     "text": [
      "Cloning into 'dev_2'...\n",
      "remote: Enumerating objects: 10, done.\u001b[K\n",
      "remote: Counting objects: 100% (10/10), done.\u001b[K\n",
      "remote: Compressing objects: 100% (5/5), done.\u001b[K\n",
      "remote: Total 10 (delta 2), reused 7 (delta 0), pack-reused 0\u001b[K\n",
      "Receiving objects: 100% (10/10), done.\n",
      "Resolving deltas: 100% (2/2), done.\n"
     ]
    }
   ],
   "source": [
    "!git clone $SAMPLE_REPO_URL dev_2"
   ]
  },
  {
   "cell_type": "code",
   "execution_count": 120,
   "id": "6cf2ebdb",
   "metadata": {},
   "outputs": [
    {
     "name": "stdout",
     "output_type": "stream",
     "text": [
      "/Users/vvkhomutenko/Projects/hexlet/python-git/python-git-sample-repo/dev_1\n"
     ]
    }
   ],
   "source": [
    "%cd dev_1"
   ]
  },
  {
   "cell_type": "code",
   "execution_count": 122,
   "id": "c17f8c88",
   "metadata": {},
   "outputs": [
    {
     "name": "stdout",
     "output_type": "stream",
     "text": [
      "Switched to a new branch 'dev1_feature'\r\n"
     ]
    }
   ],
   "source": [
    "!git checkout -b dev1_feature"
   ]
  },
  {
   "cell_type": "code",
   "execution_count": 121,
   "id": "03807c09",
   "metadata": {},
   "outputs": [],
   "source": [
    "!echo \"dev 1\" > dev_1_file"
   ]
  },
  {
   "cell_type": "code",
   "execution_count": 127,
   "id": "d5eea4f8",
   "metadata": {},
   "outputs": [
    {
     "name": "stdout",
     "output_type": "stream",
     "text": [
      "[dev1_feature 995932b] add dev_1_file\r\n",
      " 1 file changed, 1 insertion(+)\r\n",
      " create mode 100644 dev_1_file\r\n"
     ]
    }
   ],
   "source": [
    "!git add -A && git commit -m \"add dev_1_file\""
   ]
  },
  {
   "cell_type": "code",
   "execution_count": 130,
   "id": "b190bb97",
   "metadata": {},
   "outputs": [
    {
     "name": "stdout",
     "output_type": "stream",
     "text": [
      "Enumerating objects: 4, done.\n",
      "Counting objects: 100% (4/4), done.\n",
      "Delta compression using up to 12 threads\n",
      "Compressing objects: 100% (2/2), done.\n",
      "Writing objects: 100% (3/3), 315 bytes | 315.00 KiB/s, done.\n",
      "Total 3 (delta 0), reused 0 (delta 0), pack-reused 0\n",
      "remote: \n",
      "remote: Create a pull request for 'dev1_feature' on GitHub by visiting:\u001b[K\n",
      "remote:      https://github.com/vvkh/python-git-sample-repo/pull/new/dev1_feature\u001b[K\n",
      "remote: \n",
      "To github.com:vvkh/python-git-sample-repo.git\n",
      " * [new branch]      dev1_feature -> dev1_feature\n",
      "Branch 'dev1_feature' set up to track remote branch 'dev1_feature' from 'origin'.\n"
     ]
    }
   ],
   "source": [
    "!git push -u origin dev1_feature"
   ]
  },
  {
   "cell_type": "code",
   "execution_count": null,
   "id": "8840020a",
   "metadata": {},
   "outputs": [],
   "source": [
    "!git log"
   ]
  },
  {
   "cell_type": "code",
   "execution_count": 131,
   "id": "77905e7d",
   "metadata": {},
   "outputs": [
    {
     "name": "stdout",
     "output_type": "stream",
     "text": [
      "/Users/vvkhomutenko/Projects/hexlet/python-git/python-git-sample-repo/dev_2\n"
     ]
    }
   ],
   "source": [
    "%cd ../dev_2/"
   ]
  },
  {
   "cell_type": "code",
   "execution_count": 132,
   "id": "7850bcea",
   "metadata": {},
   "outputs": [
    {
     "name": "stdout",
     "output_type": "stream",
     "text": [
      "Switched to a new branch 'dev2_feature'\r\n"
     ]
    }
   ],
   "source": [
    "!git checkout -b dev2_feature"
   ]
  },
  {
   "cell_type": "code",
   "execution_count": 133,
   "id": "c14b02b5",
   "metadata": {},
   "outputs": [],
   "source": [
    "!echo \"dev 2\" > dev_2_file"
   ]
  },
  {
   "cell_type": "code",
   "execution_count": 150,
   "id": "06e2690b",
   "metadata": {
    "scrolled": true
   },
   "outputs": [
    {
     "name": "stdout",
     "output_type": "stream",
     "text": [
      "[dev1_feature 848e3c9] add dev_2_file\r\n"
     ]
    }
   ],
   "source": [
    "!git add -A && git commit -m \"add dev_2_file\""
   ]
  },
  {
   "cell_type": "code",
   "execution_count": 151,
   "id": "4eb24808",
   "metadata": {},
   "outputs": [
    {
     "name": "stdout",
     "output_type": "stream",
     "text": [
      "error: src refspec dev2_feature does not match any\r\n",
      "\u001b[31merror: failed to push some refs to 'github.com:vvkh/python-git-sample-repo.git'\r\n",
      "\u001b[m"
     ]
    }
   ],
   "source": [
    "!git push -u origin dev2_feature"
   ]
  },
  {
   "cell_type": "markdown",
   "id": "4f6eaddd",
   "metadata": {},
   "source": [
    "Пока dev1 работал над фичей, dev2 уже успел смерджить свою ветку.\n",
    "\n",
    "Это не страшно, потому что они работали над разными файлами — git сможет это корректно смерджить.\n",
    "\n",
    "Но если вдруг dev1 захотел использовать новые файлы из master, а их у него нет?"
   ]
  },
  {
   "cell_type": "code",
   "execution_count": 137,
   "id": "a5c5c7fd",
   "metadata": {},
   "outputs": [
    {
     "name": "stdout",
     "output_type": "stream",
     "text": [
      "/Users/vvkhomutenko/Projects/hexlet/python-git/python-git-sample-repo/dev_1\n"
     ]
    }
   ],
   "source": [
    "%cd ../dev_1"
   ]
  },
  {
   "cell_type": "code",
   "execution_count": 138,
   "id": "3eba4e43",
   "metadata": {},
   "outputs": [
    {
     "name": "stdout",
     "output_type": "stream",
     "text": [
      "remote: Enumerating objects: 5, done.\u001b[K\n",
      "remote: Counting objects: 100% (5/5), done.\u001b[K\n",
      "remote: Compressing objects: 100% (3/3), done.\u001b[K\n",
      "remote: Total 4 (delta 1), reused 2 (delta 0), pack-reused 0\u001b[K\n",
      "Unpacking objects: 100% (4/4), 810 bytes | 270.00 KiB/s, done.\n",
      "From github.com:vvkh/python-git-sample-repo\n",
      " * [new branch]      dev2_feature -> origin/dev2_feature\n",
      "   b9a6dcf..73e1806  master       -> origin/master\n"
     ]
    }
   ],
   "source": [
    "!git fetch"
   ]
  },
  {
   "cell_type": "code",
   "execution_count": 139,
   "id": "9eec43e2",
   "metadata": {
    "scrolled": true
   },
   "outputs": [
    {
     "name": "stdout",
     "output_type": "stream",
     "text": [
      "\u001b[33mcommit 995932bfdf374fc3803de80c52fbf4f12eac8dcf\u001b[m\u001b[33m (\u001b[m\u001b[1;36mHEAD -> \u001b[m\u001b[1;32mdev1_feature\u001b[m\u001b[33m, \u001b[m\u001b[1;31morigin/dev1_feature\u001b[m\u001b[33m)\u001b[m\r\n",
      "Author: Valentin Khomutenko <valentine.khomutenko@gmail.com>\r\n",
      "Date:   Sun May 16 16:17:14 2021 +0300\r\n",
      "\r\n",
      "    add dev_1_file\r\n",
      "\r\n",
      "\u001b[33mcommit b9a6dcf382ed9ea05df56eb80a877e9fa592d743\u001b[m\u001b[33m (\u001b[m\u001b[1;32mmaster\u001b[m\u001b[33m)\u001b[m\r\n",
      "Merge: 4587fc6 d8cdb88\r\n",
      "Author: Valentin Khomutenko <valentine.khomutenko@gmail.com>\r\n",
      "Date:   Sun May 16 15:44:58 2021 +0300\r\n",
      "\r\n",
      "    Merge pull request #1 from vvkh/new_feature\r\n",
      "    \r\n",
      "    update file\r\n",
      "\r\n",
      "\u001b[33mcommit d8cdb88054fe595b841bfa79c970775d8f9b34f0\u001b[m\u001b[33m (\u001b[m\u001b[1;31morigin/new_feature\u001b[m\u001b[33m)\u001b[m\r\n",
      "Author: Valentin Khomutenko <valentine.khomutenko@gmail.com>\r\n",
      "Date:   Sun May 16 15:36:28 2021 +0300\r\n",
      "\r\n",
      "    update file\r\n",
      "\r\n",
      "\u001b[33mcommit 4587fc663d68818763fcd65c52285213c579e059\u001b[m\r\n",
      "Author: Valentin Khomutenko <valentine.khomutenko@gmail.com>\r\n",
      "Date:   Sun May 16 14:31:18 2021 +0300\r\n",
      "\r\n",
      "    changed file\r\n",
      "\r\n",
      "\u001b[33mcommit ad033bd1f60ced176bed1e3768fe3c1ef2ffe204\u001b[m\r\n",
      "Author: Valentin Khomutenko <valentine.khomutenko@gmail.com>\r\n",
      "Date:   Sun May 16 14:29:08 2021 +0300\r\n",
      "\r\n",
      "    add file\r\n"
     ]
    }
   ],
   "source": [
    "!git log"
   ]
  },
  {
   "cell_type": "code",
   "execution_count": 142,
   "id": "6d2d6028",
   "metadata": {},
   "outputs": [
    {
     "name": "stdout",
     "output_type": "stream",
     "text": [
      "Switched to branch 'master'\r\n",
      "Your branch is behind 'origin/master' by 2 commits, and can be fast-forwarded.\r\n",
      "  (use \"git pull\" to update your local branch)\r\n"
     ]
    }
   ],
   "source": [
    "!git checkout master"
   ]
  },
  {
   "cell_type": "code",
   "execution_count": 143,
   "id": "ad085c72",
   "metadata": {
    "scrolled": true
   },
   "outputs": [
    {
     "name": "stdout",
     "output_type": "stream",
     "text": [
      "\u001b[33mhint: Pulling without specifying how to reconcile divergent branches is\u001b[m\n",
      "\u001b[33mhint: discouraged. You can squelch this message by running one of the following\u001b[m\n",
      "\u001b[33mhint: commands sometime before your next pull:\u001b[m\n",
      "\u001b[33mhint: \u001b[m\n",
      "\u001b[33mhint:   git config pull.rebase false  # merge (the default strategy)\u001b[m\n",
      "\u001b[33mhint:   git config pull.rebase true   # rebase\u001b[m\n",
      "\u001b[33mhint:   git config pull.ff only       # fast-forward only\u001b[m\n",
      "\u001b[33mhint: \u001b[m\n",
      "\u001b[33mhint: You can replace \"git config\" with \"git config --global\" to set a default\u001b[m\n",
      "\u001b[33mhint: preference for all repositories. You can also pass --rebase, --no-rebase,\u001b[m\n",
      "\u001b[33mhint: or --ff-only on the command line to override the configured default per\u001b[m\n",
      "\u001b[33mhint: invocation.\u001b[m\n",
      "Updating b9a6dcf..73e1806\n",
      "Fast-forward\n",
      " dev_2_file | 1 \u001b[32m+\u001b[m\n",
      " 1 file changed, 1 insertion(+)\n",
      " create mode 100644 dev_2_file\n"
     ]
    }
   ],
   "source": [
    "!git pull"
   ]
  },
  {
   "cell_type": "code",
   "execution_count": 146,
   "id": "4a619bd8",
   "metadata": {
    "scrolled": true
   },
   "outputs": [
    {
     "name": "stdout",
     "output_type": "stream",
     "text": [
      "Switched to branch 'dev1_feature'\r\n",
      "Your branch is up to date with 'origin/dev1_feature'.\r\n"
     ]
    }
   ],
   "source": [
    "!git checkout dev1_feature"
   ]
  },
  {
   "cell_type": "code",
   "execution_count": 153,
   "id": "b061afbf",
   "metadata": {},
   "outputs": [
    {
     "name": "stdout",
     "output_type": "stream",
     "text": [
      "Already up to date.\r\n"
     ]
    }
   ],
   "source": [
    "!git merge master --commit --no-edit"
   ]
  },
  {
   "cell_type": "code",
   "execution_count": 154,
   "id": "69904b04",
   "metadata": {
    "scrolled": true
   },
   "outputs": [
    {
     "name": "stdout",
     "output_type": "stream",
     "text": [
      "\u001b[33mcommit 848e3c92446abb31134f2ca875271e256b9994a8\u001b[m\u001b[33m (\u001b[m\u001b[1;36mHEAD -> \u001b[m\u001b[1;32mdev1_feature\u001b[m\u001b[33m)\u001b[m\r\n",
      "Merge: 995932b 73e1806\r\n",
      "Author: Valentin Khomutenko <valentine.khomutenko@gmail.com>\r\n",
      "Date:   Sun May 16 16:25:11 2021 +0300\r\n",
      "\r\n",
      "    add dev_2_file\r\n",
      "\r\n",
      "\u001b[33mcommit 73e1806f8221c82cf3ffc9f73bd3de5dd27b53da\u001b[m\u001b[33m (\u001b[m\u001b[1;31morigin/master\u001b[m\u001b[33m, \u001b[m\u001b[1;31morigin/HEAD\u001b[m\u001b[33m, \u001b[m\u001b[1;32mmaster\u001b[m\u001b[33m)\u001b[m\r\n",
      "Merge: b9a6dcf 572b872\r\n",
      "Author: Valentin Khomutenko <valentine.khomutenko@gmail.com>\r\n",
      "Date:   Sun May 16 16:20:40 2021 +0300\r\n",
      "\r\n",
      "    Merge pull request #3 from vvkh/dev2_feature\r\n",
      "    \r\n",
      "    add dev_2_file\r\n",
      "\r\n",
      "\u001b[33mcommit 572b872aa77fd1754453528ac32d03f50fed98d8\u001b[m\u001b[33m (\u001b[m\u001b[1;31morigin/dev2_feature\u001b[m\u001b[33m)\u001b[m\r\n",
      "Author: Valentin Khomutenko <valentine.khomutenko@gmail.com>\r\n",
      "Date:   Sun May 16 16:18:39 2021 +0300\r\n",
      "\r\n",
      "    add dev_2_file\r\n",
      "\r\n",
      "\u001b[33mcommit 995932bfdf374fc3803de80c52fbf4f12eac8dcf\u001b[m\u001b[33m (\u001b[m\u001b[1;31morigin/dev1_feature\u001b[m\u001b[33m)\u001b[m\r\n",
      "Author: Valentin Khomutenko <valentine.khomutenko@gmail.com>\r\n",
      "Date:   Sun May 16 16:17:14 2021 +0300\r\n",
      "\r\n",
      "    add dev_1_file\r\n",
      "\r\n",
      "\u001b[33mcommit b9a6dcf382ed9ea05df56eb80a877e9fa592d743\u001b[m\r\n",
      "Merge: 4587fc6 d8cdb88\r\n",
      "Author: Valentin Khomutenko <valentine.khomutenko@gmail.com>\r\n",
      "Date:   Sun May 16 15:44:58 2021 +0300\r\n",
      "\r\n",
      "    Merge pull request #1 from vvkh/new_feature\r\n",
      "    \r\n",
      "    update file\r\n",
      "\r\n",
      "\u001b[33mcommit d8cdb88054fe595b841bfa79c970775d8f9b34f0\u001b[m\u001b[33m (\u001b[m\u001b[1;31morigin/new_feature\u001b[m\u001b[33m)\u001b[m\r\n",
      "Author: Valentin Khomutenko <valentine.khomutenko@gmail.com>\r\n",
      "Date:   Sun May 16 15:36:28 2021 +0300\r\n",
      "\r\n",
      "    update file\r\n",
      "\r\n",
      "\u001b[33mcommit 4587fc663d68818763fcd65c52285213c579e059\u001b[m\r\n",
      "Author: Valentin Khomutenko <valentine.khomutenko@gmail.com>\r\n",
      "Date:   Sun May 16 14:31:18 2021 +0300\r\n",
      "\r\n",
      "    changed file\r\n",
      "\r\n",
      "\u001b[33mcommit ad033bd1f60ced176bed1e3768fe3c1ef2ffe204\u001b[m\r\n",
      "Author: Valentin Khomutenko <valentine.khomutenko@gmail.com>\r\n",
      "Date:   Sun May 16 14:29:08 2021 +0300\r\n",
      "\r\n",
      "    add file\r\n"
     ]
    }
   ],
   "source": [
    "!git log"
   ]
  },
  {
   "cell_type": "markdown",
   "id": "4f03e60b",
   "metadata": {},
   "source": [
    "Rebase вместо merge"
   ]
  },
  {
   "cell_type": "code",
   "execution_count": 155,
   "id": "39777774",
   "metadata": {},
   "outputs": [
    {
     "name": "stdout",
     "output_type": "stream",
     "text": [
      "HEAD is now at 572b872 add dev_2_file\r\n"
     ]
    }
   ],
   "source": [
    "!git reset --hard origin/dev2_feature"
   ]
  },
  {
   "cell_type": "code",
   "execution_count": 156,
   "id": "af5a8219",
   "metadata": {},
   "outputs": [
    {
     "name": "stdout",
     "output_type": "stream",
     "text": [
      "\r",
      "\u001b[KSuccessfully rebased and updated refs/heads/dev1_feature.\r\n"
     ]
    }
   ],
   "source": [
    "!git rebase master"
   ]
  },
  {
   "cell_type": "code",
   "execution_count": 157,
   "id": "2c4e1410",
   "metadata": {
    "scrolled": true
   },
   "outputs": [
    {
     "name": "stdout",
     "output_type": "stream",
     "text": [
      "\u001b[33mcommit 73e1806f8221c82cf3ffc9f73bd3de5dd27b53da\u001b[m\u001b[33m (\u001b[m\u001b[1;36mHEAD -> \u001b[m\u001b[1;32mdev1_feature\u001b[m\u001b[33m, \u001b[m\u001b[1;31morigin/master\u001b[m\u001b[33m, \u001b[m\u001b[1;31morigin/HEAD\u001b[m\u001b[33m, \u001b[m\u001b[1;32mmaster\u001b[m\u001b[33m)\u001b[m\r\n",
      "Merge: b9a6dcf 572b872\r\n",
      "Author: Valentin Khomutenko <valentine.khomutenko@gmail.com>\r\n",
      "Date:   Sun May 16 16:20:40 2021 +0300\r\n",
      "\r\n",
      "    Merge pull request #3 from vvkh/dev2_feature\r\n",
      "    \r\n",
      "    add dev_2_file\r\n",
      "\r\n",
      "\u001b[33mcommit 572b872aa77fd1754453528ac32d03f50fed98d8\u001b[m\u001b[33m (\u001b[m\u001b[1;31morigin/dev2_feature\u001b[m\u001b[33m)\u001b[m\r\n",
      "Author: Valentin Khomutenko <valentine.khomutenko@gmail.com>\r\n",
      "Date:   Sun May 16 16:18:39 2021 +0300\r\n",
      "\r\n",
      "    add dev_2_file\r\n",
      "\r\n",
      "\u001b[33mcommit b9a6dcf382ed9ea05df56eb80a877e9fa592d743\u001b[m\r\n",
      "Merge: 4587fc6 d8cdb88\r\n",
      "Author: Valentin Khomutenko <valentine.khomutenko@gmail.com>\r\n",
      "Date:   Sun May 16 15:44:58 2021 +0300\r\n",
      "\r\n",
      "    Merge pull request #1 from vvkh/new_feature\r\n",
      "    \r\n",
      "    update file\r\n",
      "\r\n",
      "\u001b[33mcommit d8cdb88054fe595b841bfa79c970775d8f9b34f0\u001b[m\u001b[33m (\u001b[m\u001b[1;31morigin/new_feature\u001b[m\u001b[33m)\u001b[m\r\n",
      "Author: Valentin Khomutenko <valentine.khomutenko@gmail.com>\r\n",
      "Date:   Sun May 16 15:36:28 2021 +0300\r\n",
      "\r\n",
      "    update file\r\n",
      "\r\n",
      "\u001b[33mcommit 4587fc663d68818763fcd65c52285213c579e059\u001b[m\r\n",
      "Author: Valentin Khomutenko <valentine.khomutenko@gmail.com>\r\n",
      "Date:   Sun May 16 14:31:18 2021 +0300\r\n",
      "\r\n",
      "    changed file\r\n",
      "\r\n",
      "\u001b[33mcommit ad033bd1f60ced176bed1e3768fe3c1ef2ffe204\u001b[m\r\n",
      "Author: Valentin Khomutenko <valentine.khomutenko@gmail.com>\r\n",
      "Date:   Sun May 16 14:29:08 2021 +0300\r\n",
      "\r\n",
      "    add file\r\n"
     ]
    }
   ],
   "source": [
    "!git log"
   ]
  },
  {
   "cell_type": "markdown",
   "id": "67d7ef64",
   "metadata": {},
   "source": [
    "| | Rebase | Merge |\n",
    "| --- | --- | --- |\n",
    "| Хэши коммитов| Меняются | Остаются |\n",
    "| История коммитов | Линейная | Создается merge commit (если не fast-forward) |\n"
   ]
  },
  {
   "cell_type": "markdown",
   "id": "da143f02",
   "metadata": {},
   "source": [
    "## Squash коммитов"
   ]
  },
  {
   "cell_type": "code",
   "execution_count": 158,
   "id": "b50dc327",
   "metadata": {},
   "outputs": [],
   "source": [
    "!rm -rf ../dev2"
   ]
  },
  {
   "cell_type": "code",
   "execution_count": 159,
   "id": "b7044b66",
   "metadata": {},
   "outputs": [],
   "source": [
    "!touch file1 file2 file3 "
   ]
  },
  {
   "cell_type": "code",
   "execution_count": 160,
   "id": "038418ec",
   "metadata": {},
   "outputs": [
    {
     "name": "stdout",
     "output_type": "stream",
     "text": [
      "[dev1_feature 0f14b2e] file1\r\n",
      " 1 file changed, 0 insertions(+), 0 deletions(-)\r\n",
      " create mode 100644 file1\r\n"
     ]
    }
   ],
   "source": [
    "!git add file1 && git commit -m \"file1\""
   ]
  },
  {
   "cell_type": "code",
   "execution_count": 161,
   "id": "b6389d71",
   "metadata": {},
   "outputs": [
    {
     "name": "stdout",
     "output_type": "stream",
     "text": [
      "[dev1_feature 48a7c1b] file2\r\n",
      " 1 file changed, 0 insertions(+), 0 deletions(-)\r\n",
      " create mode 100644 file2\r\n"
     ]
    }
   ],
   "source": [
    "!git add file2 && git commit -m \"file2\""
   ]
  },
  {
   "cell_type": "code",
   "execution_count": 162,
   "id": "6d5d68ca",
   "metadata": {},
   "outputs": [
    {
     "name": "stdout",
     "output_type": "stream",
     "text": [
      "[dev1_feature d3e103b] file3\r\n",
      " 1 file changed, 0 insertions(+), 0 deletions(-)\r\n",
      " create mode 100644 file3\r\n"
     ]
    }
   ],
   "source": [
    "!git add file3 && git commit -m \"file3\""
   ]
  },
  {
   "cell_type": "markdown",
   "id": "172358be",
   "metadata": {},
   "source": [
    "`git rebase -i <коммит>`"
   ]
  },
  {
   "cell_type": "code",
   "execution_count": 166,
   "id": "f8603661",
   "metadata": {},
   "outputs": [
    {
     "name": "stdout",
     "output_type": "stream",
     "text": [
      "Switched to branch 'master'\r\n",
      "Your branch is up to date with 'origin/master'.\r\n"
     ]
    }
   ],
   "source": [
    "!git checkout master"
   ]
  },
  {
   "cell_type": "code",
   "execution_count": 168,
   "id": "86d4558b",
   "metadata": {},
   "outputs": [
    {
     "name": "stdout",
     "output_type": "stream",
     "text": [
      "\u001b[33mcommit 73e1806f8221c82cf3ffc9f73bd3de5dd27b53da\u001b[m\u001b[33m (\u001b[m\u001b[1;36mHEAD -> \u001b[m\u001b[1;32mmaster\u001b[m\u001b[33m, \u001b[m\u001b[1;31morigin/master\u001b[m\u001b[33m, \u001b[m\u001b[1;31morigin/HEAD\u001b[m\u001b[33m)\u001b[m\r\n",
      "Merge: b9a6dcf 572b872\r\n",
      "Author: Valentin Khomutenko <valentine.khomutenko@gmail.com>\r\n",
      "Date:   Sun May 16 16:20:40 2021 +0300\r\n",
      "\r\n",
      "    Merge pull request #3 from vvkh/dev2_feature\r\n",
      "    \r\n",
      "    add dev_2_file\r\n",
      "\r\n",
      "\u001b[33mcommit 572b872aa77fd1754453528ac32d03f50fed98d8\u001b[m\u001b[33m (\u001b[m\u001b[1;31morigin/dev2_feature\u001b[m\u001b[33m)\u001b[m\r\n",
      "Author: Valentin Khomutenko <valentine.khomutenko@gmail.com>\r\n",
      "Date:   Sun May 16 16:18:39 2021 +0300\r\n",
      "\r\n",
      "    add dev_2_file\r\n",
      "\r\n",
      "\u001b[33mcommit b9a6dcf382ed9ea05df56eb80a877e9fa592d743\u001b[m\r\n",
      "Merge: 4587fc6 d8cdb88\r\n",
      "Author: Valentin Khomutenko <valentine.khomutenko@gmail.com>\r\n",
      "Date:   Sun May 16 15:44:58 2021 +0300\r\n",
      "\r\n",
      "    Merge pull request #1 from vvkh/new_feature\r\n",
      "    \r\n",
      "    update file\r\n",
      "\r\n",
      "\u001b[33mcommit d8cdb88054fe595b841bfa79c970775d8f9b34f0\u001b[m\u001b[33m (\u001b[m\u001b[1;31morigin/new_feature\u001b[m\u001b[33m)\u001b[m\r\n",
      "Author: Valentin Khomutenko <valentine.khomutenko@gmail.com>\r\n",
      "Date:   Sun May 16 15:36:28 2021 +0300\r\n",
      "\r\n",
      "    update file\r\n",
      "\r\n",
      "\u001b[33mcommit 4587fc663d68818763fcd65c52285213c579e059\u001b[m\r\n",
      "Author: Valentin Khomutenko <valentine.khomutenko@gmail.com>\r\n",
      "Date:   Sun May 16 14:31:18 2021 +0300\r\n",
      "\r\n",
      "    changed file\r\n",
      "\r\n",
      "\u001b[33mcommit ad033bd1f60ced176bed1e3768fe3c1ef2ffe204\u001b[m\r\n",
      "Author: Valentin Khomutenko <valentine.khomutenko@gmail.com>\r\n",
      "Date:   Sun May 16 14:29:08 2021 +0300\r\n",
      "\r\n",
      "    add file\r\n"
     ]
    }
   ],
   "source": [
    "!git log"
   ]
  },
  {
   "cell_type": "code",
   "execution_count": 169,
   "id": "7e81ed0a",
   "metadata": {},
   "outputs": [
    {
     "name": "stdout",
     "output_type": "stream",
     "text": [
      "Unstaged changes after reset:\n",
      "M\tfile\n",
      "Total 0 (delta 0), reused 0 (delta 0), pack-reused 0\n",
      "To github.com:vvkh/python-git-sample-repo.git\n",
      " + 73e1806...ad033bd master -> master (forced update)\n"
     ]
    }
   ],
   "source": [
    "!git reset ad033bd1f60ced176bed1e3768fe3c1ef2ffe204 && git push --force"
   ]
  },
  {
   "cell_type": "code",
   "execution_count": 170,
   "id": "b9437bac",
   "metadata": {},
   "outputs": [
    {
     "name": "stdout",
     "output_type": "stream",
     "text": [
      "\u001b[33mcommit ad033bd1f60ced176bed1e3768fe3c1ef2ffe204\u001b[m\u001b[33m (\u001b[m\u001b[1;36mHEAD -> \u001b[m\u001b[1;32mmaster\u001b[m\u001b[33m, \u001b[m\u001b[1;31morigin/master\u001b[m\u001b[33m, \u001b[m\u001b[1;31morigin/HEAD\u001b[m\u001b[33m)\u001b[m\r\n",
      "Author: Valentin Khomutenko <valentine.khomutenko@gmail.com>\r\n",
      "Date:   Sun May 16 14:29:08 2021 +0300\r\n",
      "\r\n",
      "    add file\r\n"
     ]
    }
   ],
   "source": [
    "!git log\n"
   ]
  },
  {
   "cell_type": "code",
   "execution_count": 174,
   "id": "c004b3a9",
   "metadata": {},
   "outputs": [
    {
     "name": "stdout",
     "output_type": "stream",
     "text": [
      "/Users/vvkhomutenko/Projects/hexlet/python-git\n"
     ]
    }
   ],
   "source": [
    "%cd .."
   ]
  },
  {
   "cell_type": "code",
   "execution_count": 177,
   "id": "7e33f90e",
   "metadata": {},
   "outputs": [],
   "source": [
    "!rm -rf dev_1 dev_2 python-git-sample-repo"
   ]
  },
  {
   "cell_type": "markdown",
   "id": "9f88d80a",
   "metadata": {},
   "source": [
    "## Git хуки"
   ]
  },
  {
   "cell_type": "code",
   "execution_count": 207,
   "id": "20b4cc21",
   "metadata": {},
   "outputs": [],
   "source": [
    "!cp sample_hook .git/hooks/pre-commit && chmod +x .git/hooks/pre-commit"
   ]
  },
  {
   "cell_type": "code",
   "execution_count": 211,
   "id": "6a8cbe61",
   "metadata": {},
   "outputs": [
    {
     "name": "stdout",
     "output_type": "stream",
     "text": [
      "make lint\r\n"
     ]
    }
   ],
   "source": [
    "!cat sample_hook"
   ]
  },
  {
   "cell_type": "code",
   "execution_count": 208,
   "id": "f2c5b90b",
   "metadata": {},
   "outputs": [],
   "source": [
    "!echo \"hello world\" >> file"
   ]
  },
  {
   "cell_type": "code",
   "execution_count": 210,
   "id": "429d95ba",
   "metadata": {},
   "outputs": [
    {
     "name": "stdout",
     "output_type": "stream",
     "text": [
      "echo \"error!\"\r\n",
      "error!\r\n",
      "exit 1\r\n",
      "make[1]: *** [lint] Error 1\r\n"
     ]
    }
   ],
   "source": [
    "!git add file && git commit -m \"add file\""
   ]
  },
  {
   "cell_type": "code",
   "execution_count": 216,
   "id": "5ad3cc5e",
   "metadata": {},
   "outputs": [
    {
     "name": "stdout",
     "output_type": "stream",
     "text": [
      "#!/usr/bin/env python\r\n",
      "import sys\r\n",
      "\r\n",
      "print('hello world')\r\n",
      "sys.exit(1)\r\n"
     ]
    }
   ],
   "source": [
    "!cat sample_hook_python"
   ]
  },
  {
   "cell_type": "code",
   "execution_count": 217,
   "id": "d520cce3",
   "metadata": {},
   "outputs": [],
   "source": [
    "!cp sample_hook_python .git/hooks/pre-commit && chmod +x .git/hooks/pre-commit"
   ]
  },
  {
   "cell_type": "code",
   "execution_count": 218,
   "id": "b03d6b07",
   "metadata": {},
   "outputs": [],
   "source": [
    "!echo \"hello world\" >> file"
   ]
  },
  {
   "cell_type": "code",
   "execution_count": 219,
   "id": "a0e41971",
   "metadata": {},
   "outputs": [
    {
     "name": "stdout",
     "output_type": "stream",
     "text": [
      "hello world\r\n"
     ]
    }
   ],
   "source": [
    "!git add file && git commit -m \"add file\""
   ]
  },
  {
   "cell_type": "code",
   "execution_count": null,
   "id": "d1023f59",
   "metadata": {},
   "outputs": [],
   "source": []
  }
 ],
 "metadata": {
  "kernelspec": {
   "display_name": "Python 3",
   "language": "python",
   "name": "python3"
  },
  "language_info": {
   "codemirror_mode": {
    "name": "ipython",
    "version": 3
   },
   "file_extension": ".py",
   "mimetype": "text/x-python",
   "name": "python",
   "nbconvert_exporter": "python",
   "pygments_lexer": "ipython3",
   "version": "3.9.4"
  }
 },
 "nbformat": 4,
 "nbformat_minor": 5
}
